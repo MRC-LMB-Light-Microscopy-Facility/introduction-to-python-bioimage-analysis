{
   "cells": [
      {
         "attachments": {},
         "cell_type": "markdown",
         "metadata": {},
         "source": [
            "<table>\n",
            "  <tr>\n",
            "    <td><p style=\"font-size:45px; color: #55BBD2\">Analysis of light microscopy images in Python</p></td>\n",
            "    <td><img src=\"ressources/lmb_logo.svg\" alt=\"LMB Logo\" width=\"500\" height=\"600\" align=\"right\"></td>\n",
            "  </tr>\n",
            "</table>\n",
            "<table>\n",
            "  <tr>\n",
            "    <td><p style=\"font-size:15px; color: #55BBD2\">Version: September 2025</p></td>\n",
            "  </tr>\n",
            "</table>"
         ]
      },
      {
         "attachments": {},
         "cell_type": "markdown",
         "metadata": {},
         "source": [
            "# Introduction to the course\n",
            "\n",
            "The course aims to introduce you to the essential knowledge to image processing and analysis of microscopic data in Python. \n",
            "\n",
            "At the end of this course, we hope the course attendees will be able to:\n",
            "- understand and establish an image analysis workflow\n",
            "- run a Python notebook\n",
            "- get familiar with relevant Python packages\n",
            "- load and read microscopic image using the package AICSImageOI\n",
            "- filter the noise of an image\n",
            "- segment cells using watershed segmentation\n",
            "- segment cells using cellpose\n",
            "- extract relevant information from an image using the module regionprops and save the results in an excel sheet\n",
            "- track a particle and trace the trajectories of the particles\n",
            "\n",
            "To tackle each of those topics, we will have three analysis problem. \n",
            "To run the Python notebook, select Kernel and choose the environment 'imaging'.\n",
            "\n",
            "We will also need to install a few packages if we are to run the notebook in Google colab. To do this, uncomment the code line in the next cell by removing the # at the beginning and run it."
         ]
      },
      {
         "cell_type": "markdown",
         "metadata": {},
         "source": [
            "### Downloading data is skipped at the momment"
         ]
      },
      {
         "cell_type": "markdown",
         "metadata": {},
         "source": [
            "## Downloading data\n",
            "\n",
            "Let us first download some data while looking at how to load a package. A package contains functions or modules that are ready to use."
         ]
      },
      {
         "cell_type": "code",
         "execution_count": null,
         "metadata": {
            "tags": []
         },
         "outputs": [],
         "source": [
            "from urllib.request import urlopen\n",
            "from io import BytesIO\n",
            "from zipfile import ZipFile\n",
            "from pathlib import Path\n",
            "\n",
            "def download_and_unzip(url, extract_to='.'):\n",
            "    http_response = urlopen(url)\n",
            "    zipfile = ZipFile(BytesIO(http_response.read()))\n",
            "    zipfile.extractall(path=extract_to)\n",
            "\n",
            "url = 'https://cloud.mrc-lmb.cam.ac.uk/s/AegYyMp3ajfaZME/download/data.zip'\n",
            "data_folder = Path('./data')\n",
            "download_and_unzip(url, data_folder)\n",
            "\n",
            "print(f'List of files in the {data_folder} folder')\n",
            "for x in (data_folder).glob('*'):\n",
            "    print(f' {str(x.name)}')\n",
            " "
         ]
      },
      {
         "cell_type": "markdown",
         "metadata": {},
         "source": [
            "# Second analysis problem\n",
            "\n",
            "## Colocalization problem\n",
            "\n",
            "![title](ressources/data2.png)\n",
            "\n",
            "In this second analysis problem, we will focus on a different problem. Our data consists of an image with four channels. <br>\n",
            "- Channel 0: Golgi marker,\n",
            "- Channel 1: cargo protein,\n",
            "- Channel 2: mitochondria,\n",
            "- Channel 3: the nuclei of the cell. \n",
            "\n",
            "With a particular treatement, the cargo moves to the mitochondria. Without the mentioned treatement, the cargo goes to the Golgi. Our problem then consists of quantifying the relocation of the cargo to the mitochondria and its relocation to the Golgi. We also want to understand how the high (transfected) or low presence (not transfected) of the mitochondria in the cell affect this relocation of the cargo. Hence, the workflow of our image analysis is illustrated as follows : <br>\n",
            "\n",
            "<img src=\"ressources/workflow/workflow2.png\" alt=\"drawing\" width=\"800\"/>"
         ]
      },
      {
         "cell_type": "markdown",
         "metadata": {},
         "source": [
            "## Load data"
         ]
      },
      {
         "cell_type": "code",
         "execution_count": 1,
         "metadata": {},
         "outputs": [
            {
               "name": "stdout",
               "output_type": "stream",
               "text": [
                  "(4, 1220, 1220)\n"
               ]
            }
         ],
         "source": [
            "from pathlib import Path\n",
            "import tifffile\n",
            "\n",
            "data_folder = Path(\"/Users/qwu/Documents/Python_projects/introduction-to-python-bioimage-analysis/\") \n",
            "file_path = data_folder / \"Zeiss1344.lsm\"\n",
            "\n",
            "# Open the image with tifffile\n",
            "img = tifffile.imread(file_path)\n",
            "print(img.shape)\n",
            "\n",
            "# Read image data as a NumPy array\n",
            "# col_data = img.data\n",
            "# col_data_shape = col_data.shape\n"
         ]
      },
      {
         "cell_type": "markdown",
         "metadata": {},
         "source": [
            "### Check if CUDA works"
         ]
      },
      {
         "cell_type": "code",
         "execution_count": 2,
         "metadata": {},
         "outputs": [
            {
               "name": "stdout",
               "output_type": "stream",
               "text": [
                  "2.8.0\n",
                  "None\n",
                  "False\n"
               ]
            }
         ],
         "source": [
            "import torch\n",
            "\n",
            "print(torch.__version__)        \n",
            "print(torch.version.cuda)       \n",
            "print(torch.cuda.is_available())"
         ]
      },
      {
         "cell_type": "markdown",
         "metadata": {},
         "source": [
            "## Segment the cell using cellpose\n",
            "\n",
            "Here we present a different technique for segmenting the cell. It uses a pretrained neural network for segmenting the image using two channels. <br> [Cellpose](https://cellpose.readthedocs.io/en/latest/) has been pretrained to detect cells or nuclei on a number of biological images."
         ]
      },
      {
         "cell_type": "code",
         "execution_count": null,
         "metadata": {},
         "outputs": [],
         "source": [
            "import matplotlib.pyplot as plt\n",
            "from cellpose import models\n",
            "\n",
            "# Get the pretrained model\n",
            "model = models.Cellpose(gpu=False, model_type='cyto2')\n",
            "\n",
            "# Evaluate the model\n",
            "mask, flows, styles, diams = model.eval(img, channels=[2,3], diameter=400, cellprob_threshold=1.0)\n",
            "\n",
            "# Display the results\n",
            "fig, ax = plt.subplots(1,7, figsize=(15,5))\n",
            "for k in range(4):\n",
            "    ax[k].imshow(img[k], cmap='gray')\n",
            "    ax[k].set_axis_off()\n",
            "    ax[k].set_title('Ch'+str(k))\n",
            "ax[4].imshow(mask)\n",
            "ax[4].set_axis_off()\n",
            "ax[4].set_title('Labels')\n",
            "ax[5].imshow(flows[0])\n",
            "ax[5].set_axis_off()\n",
            "ax[5].set_title('Flows')\n",
            "ax[6].imshow(flows[2])\n",
            "ax[6].set_axis_off()\n",
            "ax[6].set_title('Probability')\n",
            "fig.tight_layout()"
         ]
      },
      {
         "cell_type": "markdown",
         "metadata": {},
         "source": [
            "## Regions properties"
         ]
      },
      {
         "cell_type": "code",
         "execution_count": 5,
         "metadata": {},
         "outputs": [],
         "source": [
            "from skimage import measure\n",
            "\n",
            "props = measure.regionprops(mask)"
         ]
      },
      {
         "cell_type": "markdown",
         "metadata": {},
         "source": [
            "## Using an interactive display\n",
            "We will use the module 'interact' to view each labelled segmented region and observe if the segmentation was done as we expected it "
         ]
      },
      {
         "cell_type": "code",
         "execution_count": 8,
         "metadata": {},
         "outputs": [
            {
               "data": {
                  "application/vnd.jupyter.widget-view+json": {
                     "model_id": "d8d1b479294940dbb74550ef17810fbc",
                     "version_major": 2,
                     "version_minor": 0
                  },
                  "text/plain": [
                     "interactive(children=(IntSlider(value=3, description='label', max=6), Output()), _dom_classes=('widget-interac…"
                  ]
               },
               "metadata": {},
               "output_type": "display_data"
            },
            {
               "data": {
                  "text/plain": [
                     "<function __main__.displayf(label)>"
                  ]
               },
               "execution_count": 8,
               "metadata": {},
               "output_type": "execute_result"
            }
         ],
         "source": [
            "from ipywidgets import interact\n",
            "import numpy as np\n",
            "\n",
            "def displayf(label):\n",
            "    p = props[label]\n",
            "    single_mask = np.zeros(img.shape[-2:])\n",
            "    single_mask[p.coords[:,0], p.coords[:,1]] = 1\n",
            "    \n",
            "    plt.imshow(img[2,:,:].squeeze(), cmap='hot')                          # mitochondria\n",
            "    plt.imshow(img[3,:,:].squeeze(), alpha=0.5 , cmap='grey') # nuclei\n",
            "    plt.imshow(single_mask, alpha=0.2)\n",
            "\n",
            "    return \n",
            "\n",
            "interact(displayf, label=(0, len(props)-1, 1)) # min, max, step\n"
         ]
      },
      {
         "cell_type": "markdown",
         "metadata": {},
         "source": [
            "<div class=\"alert alert-success\">\n",
            "\n",
            "#### Exercise       \n",
            "\n",
            "The cell segmentation was obtained after setting the parameters: particle size to 400 pixels and cellprob_threshold = 1.0. <br>\n",
            "Observe the segmented regions change if you change the particle size or the cellprob_threshold.    \n",
            "</div>"
         ]
      },
      {
         "cell_type": "markdown",
         "metadata": {},
         "source": [
            "## Measure the colocalization coefficient \n",
            "\n",
            "The Pearson's correlation coefficient (PCC) is widely used to quantify the colocalization of one object $A$ into another object $B$. It can be calculated using the following formula [1]:\n",
            "\n",
            "$$\\text{PCC} = \\frac{\\sum_i\\left( A_i - A_{aver} \\right) \\cdot \\left( B_i - B_{aver} \\right)}{\\sqrt{\\left[ \\sum_i \\left( A_i - A_{aver} \\right)^2 \\cdot \\sum_i \\left( B_i - B_{aver} \\right)^2 \\right]}}$$\n",
            "\n",
            "$A$: cargo protein in this problem with $A_i$ being the intensity at voxel $i$ and $A_{aver}$ the average value intensity \\\n",
            "$B$: organelles (mitochondria or Golgi) with $B_i$ being the intensity at voxel $i$ and $B_{aver}$ the average value intensity\n",
            "\n",
            "PCC values range from -1 to 1. We will use the function pearsonr from the scipy.stats module to compute it. We will calculate the PCC between the organelles, mitochondria or Golgi, and the cargo protein to quantify how much cargo relocates to each corresponding organelle for a given treatement done on the cell. We will observe how different the PCC values are in high presence (transfected) and low presence (not transfected) of mitochondria in each cell respectively. <br>\n",
            "\n",
            "We will apply the following notations:\n",
            "- PCC1: PCC between the cargo protein and Golgi \n",
            "- PCC2: PCC between the cargo protein and mitochondria\n",
            "\n",
            "Source [1]: Manders, E.M., Verbeek, F.J. and Aten, J.A., 1993. Measurement of co‐localization of objects in dual‐colour confocal images. Journal of microscopy, 169(3), pp.375-382."
         ]
      },
      {
         "cell_type": "code",
         "execution_count": 9,
         "metadata": {},
         "outputs": [
            {
               "data": {
                  "text/html": [
                     "<div>\n",
                     "<style scoped>\n",
                     "    .dataframe tbody tr th:only-of-type {\n",
                     "        vertical-align: middle;\n",
                     "    }\n",
                     "\n",
                     "    .dataframe tbody tr th {\n",
                     "        vertical-align: top;\n",
                     "    }\n",
                     "\n",
                     "    .dataframe thead th {\n",
                     "        text-align: right;\n",
                     "    }\n",
                     "</style>\n",
                     "<table border=\"1\" class=\"dataframe\">\n",
                     "  <thead>\n",
                     "    <tr style=\"text-align: right;\">\n",
                     "      <th></th>\n",
                     "      <th>label</th>\n",
                     "      <th>PCC1</th>\n",
                     "      <th>PCC2</th>\n",
                     "      <th>Area</th>\n",
                     "      <th>Integrated intensity</th>\n",
                     "      <th>Condition</th>\n",
                     "    </tr>\n",
                     "  </thead>\n",
                     "  <tbody>\n",
                     "    <tr>\n",
                     "      <th>0</th>\n",
                     "      <td>1</td>\n",
                     "      <td>0.849356</td>\n",
                     "      <td>0.389726</td>\n",
                     "      <td>77252.0</td>\n",
                     "      <td>348386</td>\n",
                     "      <td>Not transfected</td>\n",
                     "    </tr>\n",
                     "    <tr>\n",
                     "      <th>1</th>\n",
                     "      <td>2</td>\n",
                     "      <td>0.712557</td>\n",
                     "      <td>0.653805</td>\n",
                     "      <td>93218.0</td>\n",
                     "      <td>1270294</td>\n",
                     "      <td>Transfected</td>\n",
                     "    </tr>\n",
                     "    <tr>\n",
                     "      <th>2</th>\n",
                     "      <td>3</td>\n",
                     "      <td>0.795263</td>\n",
                     "      <td>0.344417</td>\n",
                     "      <td>52436.0</td>\n",
                     "      <td>248412</td>\n",
                     "      <td>Not transfected</td>\n",
                     "    </tr>\n",
                     "    <tr>\n",
                     "      <th>3</th>\n",
                     "      <td>4</td>\n",
                     "      <td>0.699593</td>\n",
                     "      <td>0.684837</td>\n",
                     "      <td>108762.0</td>\n",
                     "      <td>1580431</td>\n",
                     "      <td>Transfected</td>\n",
                     "    </tr>\n",
                     "    <tr>\n",
                     "      <th>4</th>\n",
                     "      <td>5</td>\n",
                     "      <td>0.772451</td>\n",
                     "      <td>0.475691</td>\n",
                     "      <td>117916.0</td>\n",
                     "      <td>538305</td>\n",
                     "      <td>Not transfected</td>\n",
                     "    </tr>\n",
                     "    <tr>\n",
                     "      <th>5</th>\n",
                     "      <td>6</td>\n",
                     "      <td>0.646173</td>\n",
                     "      <td>0.462928</td>\n",
                     "      <td>85777.0</td>\n",
                     "      <td>401247</td>\n",
                     "      <td>Not transfected</td>\n",
                     "    </tr>\n",
                     "    <tr>\n",
                     "      <th>6</th>\n",
                     "      <td>7</td>\n",
                     "      <td>0.756169</td>\n",
                     "      <td>0.314786</td>\n",
                     "      <td>45859.0</td>\n",
                     "      <td>226724</td>\n",
                     "      <td>Not transfected</td>\n",
                     "    </tr>\n",
                     "  </tbody>\n",
                     "</table>\n",
                     "</div>"
                  ],
                  "text/plain": [
                     "   label      PCC1      PCC2      Area  Integrated intensity        Condition\n",
                     "0      1  0.849356  0.389726   77252.0                348386  Not transfected\n",
                     "1      2  0.712557  0.653805   93218.0               1270294      Transfected\n",
                     "2      3  0.795263  0.344417   52436.0                248412  Not transfected\n",
                     "3      4  0.699593  0.684837  108762.0               1580431      Transfected\n",
                     "4      5  0.772451  0.475691  117916.0                538305  Not transfected\n",
                     "5      6  0.646173  0.462928   85777.0                401247  Not transfected\n",
                     "6      7  0.756169  0.314786   45859.0                226724  Not transfected"
                  ]
               },
               "execution_count": 9,
               "metadata": {},
               "output_type": "execute_result"
            }
         ],
         "source": [
            "import scipy.stats\n",
            "from skimage import measure\n",
            "import pandas as pd\n",
            "\n",
            "ColCoeff = []\n",
            "intensity_threshold = 1e6\n",
            "\n",
            "for p in props:\n",
            "    ch00 = img[0,:,:].squeeze()[p.coords[:,0], p.coords[:,1]] # Golgi marker\n",
            "    ch01 = img[1,:,:].squeeze()[p.coords[:,0], p.coords[:,1]] # Cargo protein\n",
            "    ch02 = img[2,:,:].squeeze()[p.coords[:,0], p.coords[:,1]] # Mitochondria\n",
            "    sum_mitochondria = ch02.sum()\n",
            "    if sum_mitochondria >= intensity_threshold:\n",
            "        c = 'Transfected'\n",
            "    else:\n",
            "        c = 'Not transfected'\n",
            "\n",
            "    \n",
            "    [r1, pv] = scipy.stats.pearsonr(ch00, ch01)\n",
            "    [r2, pv] = scipy.stats.pearsonr(ch01, ch02)\n",
            "    ColCoeff.append({'label':p.label,'PCC1':r1, 'PCC2':r2, 'Area':p.area, 'Integrated intensity':sum_mitochondria, 'Condition':c})\n",
            "\n",
            "ColCoeff = pd.DataFrame.from_records(ColCoeff)\n",
            "ColCoeff"
         ]
      },
      {
         "cell_type": "markdown",
         "metadata": {},
         "source": [
            "## Statistical analysis\n",
            "\n",
            "We firstly analyse the data which corresponds to the relocation of the cargo to the Golgi. The relocation of the cargo to the mitochondria will be done as an exercise.\n",
            "\n",
            "### p-value\n",
            "\n",
            "The p-value is calculated from our statistical test. It describes how likely we are to have found the set of observations we have if there is no relationship between our conditions of interest (amount of mitochondria in each cell)"
         ]
      },
      {
         "cell_type": "code",
         "execution_count": 10,
         "metadata": {},
         "outputs": [
            {
               "name": "stdout",
               "output_type": "stream",
               "text": [
                  "MannwhitneyuResult(statistic=np.float64(2.0), pvalue=np.float64(0.38095238095238093))\n"
               ]
            }
         ],
         "source": [
            "grp1 = ColCoeff[ColCoeff['Condition']=='Transfected']\n",
            "grp2 = ColCoeff[ColCoeff['Condition']=='Not transfected']\n",
            "pvalue = scipy.stats.mannwhitneyu(grp1['PCC1'],grp2['PCC1'])\n",
            "\n",
            "print(pvalue)"
         ]
      },
      {
         "cell_type": "markdown",
         "metadata": {},
         "source": [
            "## Display of the result\n",
            "Display the PCC values, annotate the p-value and save the result into pdf file"
         ]
      },
      {
         "cell_type": "code",
         "execution_count": 11,
         "metadata": {},
         "outputs": [
            {
               "name": "stderr",
               "output_type": "stream",
               "text": [
                  "/Users/qwu/micromamba/envs/cellpose_pytrain2/lib/python3.10/site-packages/statannotations/Annotator.py:825: UserWarning: Annotator was reconfigured without applying the test (again) which will probably lead to unexpected results\n",
                  "  warnings.warn(\"Annotator was reconfigured without applying the \"\n"
               ]
            },
            {
               "name": "stdout",
               "output_type": "stream",
               "text": [
                  "p-value annotation legend:\n",
                  "      ns: 5.00e-02 < p <= 1.00e+00\n",
                  "       *: 1.00e-02 < p <= 5.00e-02\n",
                  "      **: 1.00e-03 < p <= 1.00e-02\n",
                  "     ***: 1.00e-04 < p <= 1.00e-03\n",
                  "    ****: p <= 1.00e-04\n",
                  "\n",
                  "Not transfected vs. Transfected: Custom statistical test, P_val:3.810e-01\n"
               ]
            },
            {
               "data": {
                  "image/png": "[encoded data removed]",
                  "text/plain": [
                     "<Figure size 640x480 with 1 Axes>"
                  ]
               },
               "metadata": {},
               "output_type": "display_data"
            }
         ],
         "source": [
            "import seaborn as sns\n",
            "from statannotations.Annotator import Annotator\n",
            "\n",
            "conditions_list = ['Not transfected', 'Transfected']\n",
            "\n",
            "plotting_parameters = {\n",
            "    'data':    ColCoeff,\n",
            "    'x':       'Condition',\n",
            "    'y':       'PCC1',\n",
            "    'order':   conditions_list,\n",
            "}\n",
            "\n",
            "ax = sns.violinplot(**plotting_parameters, color=\"0.9\")\n",
            "sns.stripplot(**plotting_parameters, jitter=True, size=2)\n",
            "\n",
            "annotator = Annotator(ax, tuple([conditions_list]), **plotting_parameters)\n",
            "annotator.set_pvalues([pvalue.pvalue])\n",
            "annotator.configure(loc='outside')\n",
            "annotator.annotate()\n",
            "\n",
            "ax.set_title('Relocation of the \\nCargo to the Golgi', y=1.0, pad=-10, c='red', horizontalalignment='center')\n",
            "\n",
            "plt.savefig('PCC_Cargo_to_Golgi.pdf', format=\"pdf\", bbox_inches=\"tight\")\n"
         ]
      },
      {
         "cell_type": "markdown",
         "metadata": {},
         "source": [
            "<div class=\"alert alert-success\">\n",
            "\n",
            "#### Exercise       \n",
            "\n",
            "Display the result of the statistical analysis which corresponds to the relocation of cargo to the mitochondria. <br>\n",
            "Make sure the title of the figure and the name under which the figure will be saved are updated.\n",
            "   \n",
            "</div>"
         ]
      },
      {
         "cell_type": "markdown",
         "metadata": {},
         "source": [
            "<div class=\"alert alert-success\">\n",
            "\n",
            "#### Human in the loop       \n",
            "\n",
            "python3 -m cellpose or cellpose  <br>\n",
            "    \n",
            "</div>"
         ]
      }
   ],
   "metadata": {
      "kernelspec": {
         "display_name": "cellpose_pytrain2",
         "language": "python",
         "name": "python3"
      },
      "language_info": {
         "codemirror_mode": {
            "name": "ipython",
            "version": 3
         },
         "file_extension": ".py",
         "mimetype": "text/x-python",
         "name": "python",
         "nbconvert_exporter": "python",
         "pygments_lexer": "ipython3",
         "version": "3.10.18"
      }
   },
   "nbformat": 4,
   "nbformat_minor": 4
}
