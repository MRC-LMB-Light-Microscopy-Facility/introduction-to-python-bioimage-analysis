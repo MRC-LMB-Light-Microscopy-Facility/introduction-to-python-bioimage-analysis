{
 "cells": [
  {
   "attachments": {},
   "cell_type": "markdown",
   "metadata": {},
   "source": [
    "# Mask statistics (regionprops) #\n",
    "This notebook shows how can we extract statistical information from an image (e.g. finding the maximal intensity in a desired region of interest). The steps that we need to follow to achieve this mainly depend on the exact problem we want to solve but in general it consists of: \n",
    "    Step 1: load and read the image\n",
    "    Step 2: pre-process the image if necessary such as noise filtering\n",
    "    Step 3: find the region of interest: edge or inside the region? \n",
    "    Step 4: extract the desired information in the region of interest: mean, max, min, sum, median, mode, ...\n",
    "    Step 5: display/plot results\n",
    "    Step 6: save the plots in a given image format or values in a text/excel file"
   ]
  },
  {
   "cell_type": "code",
   "execution_count": null,
   "metadata": {},
   "outputs": [],
   "source": []
  }
 ],
 "metadata": {
  "language_info": {
   "name": "python"
  },
  "orig_nbformat": 4
 },
 "nbformat": 4,
 "nbformat_minor": 2
}
