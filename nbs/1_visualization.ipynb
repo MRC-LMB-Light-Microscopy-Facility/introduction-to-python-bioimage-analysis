{
 "cells": [
  {
   "cell_type": "markdown",
   "id": "2cb7c7f6",
   "metadata": {},
   "source": [
    "<table>\n",
    "  <tr>\n",
    "    <td><p style=\"font-size:45px; color: #55BBD2\">Analysis of light microscopy images in Python </p></td>\n",
    "    <td><img src=\"../ressources/lmb_logo.svg\" alt=\"LMB Logo\" width=\"500\" height=\"600\" align=\"right\"></td>\n",
    "  </tr>\n",
    "</table>\n",
    "<table>\n",
    "  <tr>\n",
    "    <td><p style=\"font-size:15px; color: #55BBD2\">Version: September 2025</p></td>\n",
    "  </tr>\n",
    "</table>"
   ]
  },
  {
   "cell_type": "markdown",
   "id": "dab150ad",
   "metadata": {},
   "source": [
    "# Part 1: Image and its visualisation\n",
    "\n",
    "The course aims to introduce you to the essential knowledge to image processing and analysis of microscopic data in Python. \n",
    "\n",
    "In this part 1 of the course, we hope the course attendees will be able to:\n",
    "- run a Python notebook,\n",
    "- load and read microscopic images and metadata using the package bioio,\n",
    "- understand what an image is,\n",
    "- visualise different channel or section of an image using the matplotlib library,\n",
    "- visualise different channel or section of an image using the napari plugin.\n",
    "\n",
    "### Definitions:\n",
    "* A module is defined as a set of related code or functions saved in a file with the extension .py. \n",
    "* A library is a general programming term to describe a collection of modules. \n",
    "* A Python package is a library. \n",
    "* A notebook is a file with the extension .ipynb.\n",
    "\n",
    "### List of packages and modules to use in this section:\n",
    "* <i>pathlib</i> : a module representing filesystem paths.\n",
    "* <i>bioio</i> : a package for Image Reading, Metadata Conversion, and Image Writing for Microscopy Images in Pure Python.\n",
    "* <i>numpy</i> : a Python library used for working with arrays.\n",
    "* <i>matplotlib</i> : a comprehensive library for creating static, animated, and interactive visualizations in Python.\n",
    "* <i>napari</i> : a fast, interactive, multi-dimensional image viewer for Python. It can be installed as a Python package. "
   ]
  },
  {
   "cell_type": "markdown",
   "id": "a1fa0f7a",
   "metadata": {},
   "source": [
    "## Load and read data and metadata using bioio\n"
   ]
  },
  {
   "cell_type": "code",
   "execution_count": null,
   "id": "ee1f8d60",
   "metadata": {},
   "outputs": [],
   "source": [
    "from pathlib import Path\n",
    "\n",
    "data_folder = Path('../data')"
   ]
  },
  {
   "cell_type": "code",
   "execution_count": null,
   "id": "ae9ec873",
   "metadata": {},
   "outputs": [],
   "source": [
    "from bioio import BioImage\n",
    "\n",
    "image = BioImage(Path(data_folder, 'airyscan-4colors.tif'))"
   ]
  },
  {
   "cell_type": "markdown",
   "id": "ae98b110",
   "metadata": {},
   "source": [
    "The image and its metadata are now loaded into the variable \"image\". Next, we read the image and the metadata. \n",
    "\n",
    "### Metadata\n",
    "\n",
    "Metadata stores information describing the data. It includes the number of channels in the images, the name of each channel and emission wavelength associated with each channel, the voxel size, and many other acquisition parameters."
   ]
  },
  {
   "cell_type": "code",
   "execution_count": null,
   "id": "5c3fd503",
   "metadata": {},
   "outputs": [],
   "source": [
    "image.data\n",
    "image.metadata\n",
    "image.physical_pixel_sizes\n",
    "image.shape\n",
    "image.dims\n",
    "image.channel_names"
   ]
  },
  {
   "cell_type": "markdown",
   "id": "aba27721",
   "metadata": {},
   "source": [
    "<div class=\"alert alert-success\">\n",
    "\n",
    "#### Exercise \n",
    "\n",
    "In the next cell, get familiar with the contents of the variable \"image\" and the metadata by printing the values stored in it one by one and understand the outputs. \n",
    "    \n",
    "Hint: use the function print()\n",
    "    \n",
    "</div>"
   ]
  },
  {
   "cell_type": "code",
   "execution_count": null,
   "id": "adc5bcef",
   "metadata": {},
   "outputs": [],
   "source": []
  },
  {
   "cell_type": "markdown",
   "id": "62da543e",
   "metadata": {},
   "source": [
    "### Image dimension and pixel sizes\n",
    "\n",
    "Next, we will check the different dimensions of our image. To illustrate this, we need to know what a dictionnary is as it is required here."
   ]
  },
  {
   "cell_type": "code",
   "execution_count": null,
   "id": "3bcce141",
   "metadata": {},
   "outputs": [],
   "source": [
    "image.dims"
   ]
  },
  {
   "cell_type": "code",
   "execution_count": null,
   "id": "01a004e1",
   "metadata": {},
   "outputs": [],
   "source": [
    "for dim, element in enumerate(image.dims.order):\n",
    "    print(f'Array axis {dim} is {element} with size {image.dims[element][0]}')\n",
    "\n",
    "print(f'The name of the channels are {image.channel_names}')\n",
    "print(f'The pixel size in X is {image.physical_pixel_sizes}')\n",
    "print(f'The pixel size in X is {image.physical_pixel_sizes.X:.4f} microns')\n",
    "print(f'The pixel size in Y is {image.physical_pixel_sizes.Y:.4f} microns')"
   ]
  },
  {
   "cell_type": "markdown",
   "id": "7029983b",
   "metadata": {},
   "source": [
    "### What is an image?\n",
    "\n",
    "A digital image is a finite numeric representation of the intensity values. It is composed of picture elements known as pixels. \n",
    "\n",
    "In Python, it can be manipulated as a N-dimensional array using the class numpy.ndarray."
   ]
  },
  {
   "cell_type": "code",
   "execution_count": null,
   "id": "62e1754f",
   "metadata": {},
   "outputs": [],
   "source": [
    "# import the numpy package used for manipulating images\n",
    "import numpy as np\n",
    "\n",
    "# get the array of pixels intensity as a numpy object\n",
    "data = image.data\n",
    "\n",
    "# Print the type of the array\n",
    "print('The data is a ', type(data)) \n",
    "\n",
    "# Print the dimension of the array\n",
    "print('The array has the following shape', data.shape) \n",
    "\n",
    "# Print the physical pixel sizes and the types\n",
    "pixel = image.physical_pixel_sizes\n",
    "print('The physical pixel sizes are', pixel)\n",
    "print('The pixel type is a', type(pixel)) \n"
   ]
  },
  {
   "cell_type": "markdown",
   "id": "1ec54cef",
   "metadata": {},
   "source": [
    "## Visualize with matplotlib\n",
    "### Display an image"
   ]
  },
  {
   "cell_type": "code",
   "execution_count": null,
   "id": "57c79a0a",
   "metadata": {},
   "outputs": [],
   "source": [
    "# import matplotlib for loading images\n",
    "import matplotlib.pyplot as plt\n",
    "\n",
    "# Let's display the second channel as a 2D image in a figure\n",
    "plt.imshow(data[0,1,0,:,:], cmap='gray')"
   ]
  },
  {
   "cell_type": "markdown",
   "id": "c2900433",
   "metadata": {},
   "source": [
    "<div class=\"alert alert-success\">\n",
    "       \n",
    "#### Exercise \n",
    "\n",
    "Display the second and third channels in the image and change the colormap cmap value to 'hot'.\n",
    "    \n",
    "Hint: use the same function that in the previous cell.\n",
    "</div>"
   ]
  },
  {
   "cell_type": "code",
   "execution_count": null,
   "id": "3aac26b5",
   "metadata": {},
   "outputs": [],
   "source": []
  },
  {
   "cell_type": "markdown",
   "id": "38a18d2b",
   "metadata": {},
   "source": [
    "Now let's display all the channels of the image in a subplot using a `for` loop:"
   ]
  },
  {
   "cell_type": "code",
   "execution_count": null,
   "id": "631dfdd7",
   "metadata": {},
   "outputs": [],
   "source": [
    "# import matplotlib for displaying images\n",
    "import matplotlib.pyplot as plt\n",
    "\n",
    "# compute the number of channels\n",
    "num_channels = image.shape[1]\n",
    "\n",
    "# Display the image for each channel\n",
    "fig, ax = plt.subplots(1, num_channels, figsize=(16,4))\n",
    "for k  in range(num_channels):    \n",
    "    ax[k].imshow(image.data[0,k,0], cmap='hot')\n",
    "    ax[k].set_axis_off()\n",
    "    ax[k].set_title(image.channel_names[k])    "
   ]
  },
  {
   "cell_type": "markdown",
   "id": "c5394c62",
   "metadata": {},
   "source": [
    "In the following cell, we crop a part of the image, display it in a figure and overlay the pixel values."
   ]
  },
  {
   "cell_type": "code",
   "execution_count": null,
   "id": "59eb081e",
   "metadata": {},
   "outputs": [],
   "source": [
    "# Crop and downsample the array by a factor of 5\n",
    "crop = image.data[0, 0, 0, 850:950:5, 900:1000:5] \n",
    "\n",
    "# Create a figure with axes\n",
    "fig, ax = plt.subplots(figsize=(5, 5))\n",
    "\n",
    "# Display the downsampled array in the figure\n",
    "plt.imshow(crop, cmap='gray')\n",
    "\n",
    "# Add the values of the pixel intensity\n",
    "for i in range(crop.shape[0]):\n",
    "    for j in range(crop.shape[1]):\n",
    "        c = 'white' if crop[i, j] < 5 else 'black'\n",
    "        ax.text(j, i, str(int(crop[i, j])), color=c, ha='center', va='center', size=10)\n",
    "ax.axis(\"off\")\n",
    "plt.title('Pixel values');"
   ]
  },
  {
   "cell_type": "markdown",
   "id": "f7975ef4",
   "metadata": {},
   "source": [
    "<div class=\"alert alert-success\">\n",
    "       \n",
    "#### Exercise \n",
    "    \n",
    "Modify the previous cell to\n",
    "\n",
    "1. select a different region within the image and display an overlay of the image with the pixel values,\n",
    "2. check again the size of the image to be sure of not going out of bounds,\n",
    "3. choose an appropriate downsampling factor,\n",
    "4. adjust the figsize for a proper and visible display if necessary.\n",
    "    \n",
    "</div>"
   ]
  },
  {
   "cell_type": "code",
   "execution_count": null,
   "id": "393f687b",
   "metadata": {},
   "outputs": [],
   "source": []
  },
  {
   "cell_type": "markdown",
   "id": "523e17d9",
   "metadata": {},
   "source": [
    "### Plot with matplotlib\n",
    "\n",
    "Let say we would like to visualize the profile of the intensity distribution of a given channel along the x-axis at the mid-position of the y-axis in the image. "
   ]
  },
  {
   "cell_type": "code",
   "execution_count": null,
   "id": "add5ddc8",
   "metadata": {},
   "outputs": [],
   "source": [
    "c = 3                       # channel number\n",
    "y = data[0, 3, 0, 956, :]   # select the intensity to display\n",
    "x = np.arange(0, len(y))    # set the x-range\n",
    "\n",
    "plt.plot(x, y)\n",
    "\n",
    "plt.xlabel(\"x [pixels]\")\n",
    "plt.ylabel(\"Intensity [a.u]\")\n",
    "plt.title(\"Intensity for channel \" + str(c))"
   ]
  },
  {
   "cell_type": "markdown",
   "id": "8ee1ab6f",
   "metadata": {},
   "source": [
    "## Display with napari viewer\n",
    "\n",
    "Napari is a fast, interactive, and open-source Python tool for viewing, annotating, and analyzing large multi-dimensional scientific images. It allows users to visualize 2D, 3D, and higher-dimensional data on a single canvas, overlay derived data like points and segmentations, and seamlessly integrate exploration with computation and annotation."
   ]
  },
  {
   "cell_type": "code",
   "execution_count": null,
   "id": "3a30676f",
   "metadata": {},
   "outputs": [],
   "source": [
    "import napari\n",
    "\n",
    "viewer = napari.Viewer()\n",
    "viewer.add_image(data)"
   ]
  },
  {
   "cell_type": "markdown",
   "id": "80859d88",
   "metadata": {},
   "source": [
    "Similar to Fiji, we can also hide or show some channels using what is called `layer` in the viewer. The layer can have properties such as `name`, `opacity`, `blending`, etc. "
   ]
  },
  {
   "cell_type": "markdown",
   "id": "e3bcacbf",
   "metadata": {},
   "source": [
    "<div class=\"alert alert-success\">\n",
    "       \n",
    "#### Exercise \n",
    "\n",
    "To split the channels into layers, we need to specify the channel axis.\n",
    "\n",
    "1. Add `channel_axis=1` into the add_image function in the previous cell and observe the difference from the previous viewer. \n",
    "2. Select a channel and play with the gamma or/and contrast limits parameters to adjust the contrast of each of the channel. \n",
    "3 The blending is by default additive. Select Channel 2 (dots) and set its blending to opaque. Hide and show this channel and observe the difference.\n",
    "    \n",
    "</div>"
   ]
  },
  {
   "cell_type": "markdown",
   "id": "01802acd",
   "metadata": {},
   "source": [
    "Now we will try to code the actions that one can manually do on the viewer."
   ]
  },
  {
   "cell_type": "markdown",
   "id": "714b7dff",
   "metadata": {},
   "source": [
    "<div class=\"alert alert-success\">\n",
    "       \n",
    "#### Exercise \n",
    "    \n",
    "Use the same viewer as before or create a new one. We will display the name of the channels as set in the metadata and set the contrast limits as the minimal and maximal intensity values.\n",
    "\n",
    "1. set the `name` property to be the image.channel_names or an user-defined list of channels names,\n",
    "2. create a list of min and max intensity value for the 4 channels,\n",
    "3. set the `contrast_limits` property of each channel to range between the min and max intensity by attributing the `contrast_limits` variable to the created list in step 2,\n",
    "\n",
    "Hint: use np.min(data[:, n, :, :, :]) and np.max(data[:, n, :, :, :]) to find the min and max of the n-th channel respectively\n",
    "    \n",
    "</div>"
   ]
  },
  {
   "cell_type": "code",
   "execution_count": null,
   "id": "c5ce3e16",
   "metadata": {},
   "outputs": [],
   "source": [
    "import numpy as np\n",
    "\n",
    "contrast_limits = [[np.min(data[:, n, :, :, :]), np.max(data[:, n, :, :, :])] for n in np.arange(data.shape[1])]\n",
    "contrast_limits"
   ]
  },
  {
   "cell_type": "markdown",
   "id": "8bb722f0",
   "metadata": {},
   "source": [
    "### Add points layer \n",
    "\n",
    "Points are another types of layers that one can add to a napari viewer. It requires the coordinates of the points, (x, y) for 2D data points and (x, y, z) for 3D data points."
   ]
  },
  {
   "cell_type": "code",
   "execution_count": null,
   "id": "7ff7d2be",
   "metadata": {},
   "outputs": [],
   "source": [
    "points = np.array([[100, 100], [200, 200], [300, 100]]) # (y, x)\n",
    "viewer.add_points(points, size=30, face_color=\"red\", text=[\"pggkkk1\", \"p2\", \"p3\"])"
   ]
  },
  {
   "cell_type": "markdown",
   "id": "93bb93f5",
   "metadata": {},
   "source": [
    "### Add labels layer\n",
    "\n",
    "A label layer is an image-like layer where every pixel contains an integer ID corresponding to the region it belongs to. \n",
    "\n",
    "To illustrate this, we will create a labels data of the same size as the 2D image channel.  "
   ]
  },
  {
   "cell_type": "code",
   "execution_count": null,
   "id": "20fe408e",
   "metadata": {},
   "outputs": [],
   "source": [
    "shape = data.shape\n",
    "\n",
    "# Example data for labels layer\n",
    "labels_data = np.zeros(shape[3::], dtype=int)\n",
    "labels_data[10:300, 10:300] = 1\n",
    "labels_data[500:900, 500:600] = 2\n",
    "\n",
    "viewer.add_labels(labels_data)"
   ]
  },
  {
   "cell_type": "markdown",
   "id": "f1242ab2",
   "metadata": {},
   "source": [
    "We can also group the properties we want to attribute to a layer in a dictionnary and add it into the display funtion. \n",
    "\n",
    "Here we introduce the `colormap` of the labels and visibility `visible` parameters to the list of label parameters.\n",
    "\n",
    "For a label layer, the colormap needs to be in a dictionary format such that the region IDs are the keys and the RGB triplet code colors are the values."
   ]
  },
  {
   "cell_type": "code",
   "execution_count": null,
   "id": "62b73b5a",
   "metadata": {},
   "outputs": [],
   "source": [
    "# specify the colors of the labels in a dictionary\n",
    "cols = {0: [0,0,0], 1: [1,0,0], 2:[0,1,0]}\n",
    "\n",
    "# Properties dictionary for labels\n",
    "labels_properties = {\n",
    "    \"name\": \"My Labels\",\n",
    "    \"opacity\": 0.5,\n",
    "    \"colormap\": cols,           # color map for labels\n",
    "    \"visible\": True\n",
    "}\n",
    "\n",
    "# Add to viewer\n",
    "viewer.add_labels(labels_data, **labels_properties)"
   ]
  }
 ],
 "metadata": {
  "kernelspec": {
   "display_name": "imaging-python-course",
   "language": "python",
   "name": "python3"
  },
  "language_info": {
   "codemirror_mode": {
    "name": "ipython",
    "version": 3
   },
   "file_extension": ".py",
   "mimetype": "text/x-python",
   "name": "python",
   "nbconvert_exporter": "python",
   "pygments_lexer": "ipython3",
   "version": "3.12.11"
  }
 },
 "nbformat": 4,
 "nbformat_minor": 5
}
