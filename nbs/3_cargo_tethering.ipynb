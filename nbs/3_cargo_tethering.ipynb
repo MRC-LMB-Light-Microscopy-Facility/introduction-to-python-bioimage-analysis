{
   "cells": [
      {
         "attachments": {},
         "cell_type": "markdown",
         "metadata": {},
         "source": [
            "<table>\n",
            "  <tr>\n",
            "    <td><p style=\"font-size:45px; color: #55BBD2\">Analysis of light microscopy images in Python</p></td>\n",
            "    <td><img src=\"../ressources/lmb_logo.svg\" alt=\"LMB Logo\" width=\"500\" height=\"600\" align=\"right\"></td>\n",
            "  </tr>\n",
            "</table>\n",
            "<table>\n",
            "  <tr>\n",
            "    <td><p style=\"font-size:15px; color: #55BBD2\">Version: September 2025</p></td>\n",
            "  </tr>\n",
            "</table>"
         ]
      },
      {
         "cell_type": "markdown",
         "metadata": {},
         "source": [
            "# Part 3 Cargo protein tethering\n",
            "\n",
            "<b>Problem:</b> Syntaxin-16 cargo-containing vesicles will tether to Glogi in WT cells. In this example, we are interested into quantifying the tethering of syntaxin-16 cargo-containing vesicles by the mitochondria when the protein TBC1D23 is relocated to the mitochondria. We want to quantify the colocalization between the mitochondria and the cargo at single-cell level, to measure the effect of mutant of TBC1D23 on the effectivness of the cargo tethering. Note that not all cells are transfected.\n",
            "\n",
            "<b>Dataset 1:</b> Zeiss1344.lsm\n",
            "\n",
            "![title](../ressources/data2.png)\n",
            "\n",
            "<b>Credit:</b> Alison Gillingham from Sean Munro's group at the MRC-LMB. Reference: Jérôme Cattin-Ortolá et al., Cargo selective vesicle tethering: The structural basis for binding of specific cargo proteins by the Golgi tether component TBC1D23. Sci. adv.10,eadl0608(2024). [https://www.science.org/doi/10.1126/sciadv.adl0608]\n",
            "\n",
            "<b>Workflow:</b>\n",
            "\n",
            "<img src=\"../ressources/workflow/workflow2.png\" alt=\"drawing\" width=\"800\"/>\n",
            "\n",
            "<b>Objectives:</b>\n",
            "- Get to know CellPose and use it to perform cellular segementation (models.CellposeModel, model.eval)\n",
            "- Use Pearson Corrlation Coefficience (PCC) to evaluate colocalization (scipy.stats.pearsonr)\n",
            "- Simple example of statistical anaysis (scipy.stats.mannwhitneyu, sns.violinplot, sns.stripplot, statannotations.Annotator, plt.savefig)"
         ]
      },
      {
         "cell_type": "markdown",
         "metadata": {},
         "source": [
            "## Load data for colocalization analysis"
         ]
      },
      {
         "cell_type": "code",
         "execution_count": null,
         "metadata": {},
         "outputs": [],
         "source": [
            "from pathlib import Path\n",
            "from bioio import BioImage\n",
            "\n",
            "data_folder = Path(\"../data\")\n",
            "image_path = data_folder / \"Zeiss1344.lsm\"\n",
            "img = BioImage(image_path).data\n",
            "print(img.shape)"
         ]
      },
      {
         "cell_type": "markdown",
         "metadata": {},
         "source": [
            "## Check for GPU Availability\n",
            "Checks for a CUDA-compatible GPU, which significantly accelerates deep learning model training and inference."
         ]
      },
      {
         "cell_type": "code",
         "execution_count": null,
         "metadata": {},
         "outputs": [],
         "source": [
            "import torch\n",
            "\n",
            "print(torch.__version__)\n",
            "print(torch.version.cuda)\n",
            "print(torch.cuda.is_available())\n",
            "\n",
            "use_gpu = torch.cuda.is_available()"
         ]
      },
      {
         "cell_type": "markdown",
         "metadata": {},
         "source": [
            "## Segment the cell using CellPose (Deep Learning approach)\n",
            "\n",
            "[Cellpose](https://cellpose.readthedocs.io/en/latest/) is a generalist cellular segmentation algorithm, trained on diverse datasets that works on wide range of data types.\n",
            "\n",
            "Key features: \n",
            "- Instance segmentation\n",
            "- Easy-to-use GUI\n",
            "- A “zoo” of pre-trained models\n",
            "- Well-documented Python API\n",
            "- Simple fine-tuning of models via Human-in-the-Loop retraining\n",
            "\n",
            "\n",
            "<img src=\"../ressources/cellpose_w.png\" alt=\"drawing\" width=\"800\"/>\n"
         ]
      },
      {
         "cell_type": "code",
         "execution_count": null,
         "metadata": {},
         "outputs": [],
         "source": [
            "import matplotlib.pyplot as plt\n",
            "from cellpose import models\n",
            "\n",
            "# Get the pretrained model\n",
            "model = models.CellposeModel(gpu=use_gpu, model_type=\"cyto2\")\n",
            "\n",
            "# To segment the cells in the image, we use channels 2 (mitochondria) and 3 (nuclei) for guidance.\n",
            "mask, flows, diams = model.eval(\n",
            "    img, channels=[2, 3], diameter=400, cellprob_threshold=1.0\n",
            ")\n",
            "\"\"\"\n",
            "Parameters:\n",
            "-----------\n",
            "img : np.ndarray\n",
            "    Input image to segment.\n",
            "\n",
            "channels : list of int\n",
            "    Specifies which channels to use from the image:\n",
            "    - channels[0]: main input channel (e.g. cytoplasmic)\n",
            "    - channels[1]: optional auxiliary channel (e.g. nuclear)\n",
            "    Example: [2, 3] uses channel 2 and 3 as input.\n",
            "\n",
            "diameter : float or int\n",
            "    Estimated object diameter (in pixels). Used to rescale the image internally to match the training conditions of the model\n",
            "    - A good estimate improves segmentation accuracy.\n",
            "\n",
            "cellprob_threshold : float\n",
            "    Threshold applied to the internal \"cell probability\" map output by the model.\n",
            "    - Higher values result in stricter segmentation.\n",
            "    - Typical range: 0.0 to 1.0\n",
            "\n",
            "Returns:\n",
            "--------\n",
            "mask : np.ndarray\n",
            "    Segmentation mask with labeled regions.\n",
            "\n",
            "flows : list of np.ndarray\n",
            "    List of flow-related outputs used in Cellpose for segmentation and visualization.\n",
            "\n",
            "    - flows[0]: HSV-encoded XY flow image (H, W, 3), for visualization only.\n",
            "    - flows[1]: Raw XY flow vectors (2, H, W), directing pixel movement toward cell centers.\n",
            "    - flows[2]: Cell probability map (H, W); used to threshold foreground pixels.\n",
            "    - flows[3]: Final pixel coordinates after Euler integration (2, H, W); used to define cell masks.\n",
            "\n",
            "\n",
            "diams : float\n",
            "    Estimated object diameter based on image content (may differ from input diameter).\n",
            "\"\"\"\n",
            "\n",
            "\n",
            "# Display the results\n",
            "fig, ax = plt.subplots(1, 7, figsize=(15, 5))\n",
            "for k in range(4):\n",
            "    ax[k].imshow(img[:, k, :, :, :].squeeze())\n",
            "    ax[k].set_axis_off()\n",
            "    ax[k].set_title(\"Ch0\" + str(k))\n",
            "ax[4].imshow(mask)\n",
            "ax[4].set_axis_off()\n",
            "ax[4].set_title(\"Labels\")\n",
            "ax[5].imshow(flows[0])\n",
            "ax[5].set_axis_off()\n",
            "ax[5].set_title(\"Flows\")\n",
            "ax[6].imshow(flows[2])\n",
            "ax[6].set_axis_off()\n",
            "ax[6].set_title(\"Cell Probability\")\n",
            "fig.tight_layout()"
         ]
      },
      {
         "cell_type": "markdown",
         "metadata": {},
         "source": [
            "## Mask overlay in Napari"
         ]
      },
      {
         "cell_type": "code",
         "execution_count": null,
         "metadata": {},
         "outputs": [],
         "source": [
            "import napari\n",
            "\n",
            "viewer = napari.Viewer()\n",
            "viewer.add_image(\n",
            "    img,\n",
            "    channel_axis=1,\n",
            "    name=[\"Golgi\", \"Cargo\", \"Mitochondria\", \"Nuclei\"],\n",
            "    colormap=[\"green\", \"magenta\", \"cyan\", \"blue\"],  # Assign colors to each channel\n",
            "    blending=\"additive\",  # Better for multichannel visualization\n",
            ")\n",
            "\n",
            "# Add segmentation mask as labels layer\n",
            "viewer.add_labels(\n",
            "    mask,\n",
            "    name=\"Segmentation Mask\",\n",
            "    opacity=0.7,  # Make mask semi-transparent\n",
            "    blending=\"translucent\",  # Good blending mode for overlays\n",
            ")\n",
            "# viewer.show()"
         ]
      },
      {
         "cell_type": "markdown",
         "metadata": {},
         "source": [
            "<div class=\"alert alert-success\">\n",
            "\n",
            "#### Exercise       \n",
            "\n",
            "1. The cell segmentation was obtained after setting the parameters: `diameter` to 200 pixels and `cellprob_threshold` to 0.5. <br>\n",
            "2. Observe the segmented regions when you change the diameter or the cellprob_threshold.    \n",
            "</div>"
         ]
      },
      {
         "cell_type": "code",
         "execution_count": null,
         "metadata": {},
         "outputs": [],
         "source": []
      },
      {
         "cell_type": "markdown",
         "metadata": {},
         "source": [
            "## Measure the colocalization coefficient \n",
            "\n",
            "The Pearson's correlation coefficient (PCC) is widely used to quantify the colocalization of one object $A$ into another object $B$. It can be calculated using the following formula [1]:\n",
            "\n",
            "$$\\text{PCC} = \\frac{\\sum_i\\left( A_i - A_{aver} \\right) \\cdot \\left( B_i - B_{aver} \\right)}{\\sqrt{\\left[ \\sum_i \\left( A_i - A_{aver} \\right)^2 \\cdot \\sum_i \\left( B_i - B_{aver} \\right)^2 \\right]}}$$\n",
            "\n",
            "$A$: cargo protein with $A_i$ being the intensity at pixel $i$ and $A_{aver}$ the average value intensity \\\n",
            "$B$: organelles (mitochondria or Golgi) with $B_i$ being the intensity at pixel $i$ and $B_{aver}$ the average value intensity\n",
            "\n",
            "PCC values range from –1 to 1, where 1 indicates perfect colocalization and –1 indicates complete exclusion. We will calculate the correlation between the cargo protein and either mitochondria or Golgi to quantify cargo tethering. PCC values will be compared between cells with high (transfected) and low (not transfected) TBC1D23 presence in the mitochondria channel. <br>\n",
            "\n",
            "We will apply the following notations:\n",
            "- PCC1: PCC between the cargo protein and Golgi \n",
            "- PCC2: PCC between the cargo protein and mitochondria\n",
            "\n",
            "Reference [1]: Manders, E.M., Verbeek, F.J. and Aten, J.A., 1993. Measurement of co‐localization of objects in dual‐colour confocal images. Journal of microscopy, 169(3), pp.375-382."
         ]
      },
      {
         "cell_type": "code",
         "execution_count": null,
         "metadata": {},
         "outputs": [],
         "source": [
            "import scipy.stats\n",
            "import pandas as pd\n",
            "from skimage import measure\n",
            "\n",
            "\n",
            "# --- Extract region properties from a labeled mask ---\n",
            "# Each connected component (label) in the mask becomes a RegionProperties object.\n",
            "# This allows access to shape and pixel-level information for each labeled object (e.g., a cell).\n",
            "props = measure.regionprops(mask)\n",
            "\n",
            "colcoeff = []  # List to store Pearson correlation results and associated measurements for each object\n",
            "intensity_threshold =  1e6  # Threshold to determine whether a cell is considered \"transfected\"\n",
            "\n",
            "\n",
            "# Loop through each object in the regionprops list\n",
            "for p in props:\n",
            "    # Extract intensity values for each channel at the coordinates of the current object (labelled region)\n",
            "    ch00 = img[:, 0, :, :].squeeze()[p.coords[:, 0], p.coords[:, 1]]  # Channel 0: Golgi marker\n",
            "    ch01 = img[:, 1, :, :].squeeze()[p.coords[:, 0], p.coords[:, 1]]  # Channel 1: Cargo protein\n",
            "    ch02 = img[:, 2, :, :].squeeze()[p.coords[:, 0], p.coords[:, 1]]  # Channel 2: Mitochondria\n",
            "\n",
            "    # Compute the total intensity of mitochondria in this object\n",
            "    sum_mitochondria = ch02.sum()\n",
            "    # Determine transfection condition based on mitochondria intensity\n",
            "    if sum_mitochondria >= intensity_threshold:\n",
            "        c = \"Transfected\"\n",
            "    else:\n",
            "        c = \"Not transfected\"\n",
            "\n",
            "    # Compute Pearson correlation coefficient between:\n",
            "    # - Golgi and Cargo protein\n",
            "    [r1, pv] = scipy.stats.pearsonr(ch00, ch01)\n",
            "    # - Cargo protein and Mitochondria\n",
            "    [r2, pv] = scipy.stats.pearsonr(ch01, ch02)\n",
            "    # - pv is the two-tailed (default hypothesis) p-value testing non-correlation\n",
            "\n",
            "    # Append results as a dictionary to the list\n",
            "    colcoeff.append(\n",
            "        {\n",
            "            \"label\": p.label,  # Object label\n",
            "            \"PCC1\": r1,  # Pearson correlation: Golgi vs Cargo\n",
            "            \"PCC2\": r2,  # Pearson correlation: Cargo vs Mitochondria\n",
            "            \"Area\": p.area,  # Area of the object\n",
            "            \"Integrated intensity\": sum_mitochondria,  # Total mitochondria intensity\n",
            "            \"Condition\": c,  # Transfection status\n",
            "        }\n",
            "    )\n",
            "\n",
            "# Convert the list of dictionaries to a pandas DataFrame for easier downstream analysis\n",
            "colcoeff = pd.DataFrame.from_records(colcoeff)\n",
            "# Display the DataFrame\n",
            "colcoeff"
         ]
      },
      {
         "cell_type": "markdown",
         "metadata": {},
         "source": [
            "## Statistical analysis\n",
            "We would like to analyze the tethering of the cargo to the mitochondria due to the protein TBC1D23 relocalization by comparing the PCC between the cargo and mitochondria signal (PCC2) in two groups of cells: transfected (with high TBC1D23 content) and non-transfected (with low TBC1D23 content). \n",
            "\n",
            "### P-value\n",
            "The p-value is obtained from a statistical test (Mann–Whitney U test) comparing PCC2 values between transfected and non-transfected cells. It reflects the probability of observing such a difference by chance if there were no actual relationship between mitochondrial content and cargo–mitochondria colocalization. A smaller p-value indicates stronger evidence that the two groups differ in terms of PCC2."
         ]
      },
      {
         "cell_type": "code",
         "execution_count": null,
         "metadata": {},
         "outputs": [],
         "source": [
            "# Filter the DataFrame to separate objects based on their transfection condition\n",
            "grp1 = colcoeff[colcoeff[\"Condition\"] == \"Transfected\"]  # Subset of transfected objects\n",
            "grp2 = colcoeff[colcoeff[\"Condition\"] == \"Not transfected\"]  # Subset of non-transfected objects\n",
            "\n",
            "# Perform a Mann-Whitney U test (non-parametric test) to compare the PCC2 values\n",
            "# between transfected and non-transfected groups\n",
            "pvalue = scipy.stats.mannwhitneyu(grp1[\"PCC2\"], grp2[\"PCC2\"])\n",
            "print(pvalue)"
         ]
      },
      {
         "cell_type": "markdown",
         "metadata": {},
         "source": [
            "## Display of the result\n",
            "Display the PCC values, annotate the p-value and save the result into pdf file"
         ]
      },
      {
         "cell_type": "code",
         "execution_count": null,
         "metadata": {},
         "outputs": [],
         "source": [
            "# Import seaborn for plotting and statannotations for statistical annotation on plots\n",
            "import seaborn as sns\n",
            "from statannotations.Annotator import Annotator\n",
            "\n",
            "# Define the two experimental conditions in desired plotting order\n",
            "conditions_list = [\"Not transfected\", \"Transfected\"]\n",
            "\n",
            "# Create a dictionary of plotting parameters for reuse\n",
            "plotting_parameters = {\n",
            "    \"data\": colcoeff,  # DataFrame containing PCC values\n",
            "    \"x\": \"Condition\",  # X-axis will show the condition (transfection status)\n",
            "    \"y\": \"PCC2\",  # Y-axis will show the PCC between mitochondria and Cargo\n",
            "    \"order\": conditions_list,  # Force consistent order of conditions\n",
            "}\n",
            "\n",
            "# Create a violin plot showing the distribution of PCC2 in each condition\n",
            "ax = sns.violinplot(**plotting_parameters, color=\"0.9\") # Unpacks the dictionary into individual keyword arguments\n",
            "sns.stripplot(**plotting_parameters, jitter=True, size=2) # Overlay individual data points using a stripplot \n",
            "\n",
            "# Set up the Annotator to add statistical test result on the plot\n",
            "annotator = Annotator(ax, tuple([conditions_list]), **plotting_parameters)\n",
            "annotator.set_pvalues([pvalue.pvalue])\n",
            "annotator.configure(loc=\"outside\") # Configure annotation display\n",
            "annotator.annotate() # Draw the annotation on the plot\n",
            "\n",
            "ax.set_title(\n",
            "    \"Relocation of the \\nCargo to the Mitochondria\",\n",
            "    y=1.0, # Vertical position (1.0 = top of axes)\n",
            "    pad=-10, # Move title closer to plot area (negative = down)\n",
            "    c=\"red\", # Title text color\n",
            "    horizontalalignment=\"center\", # Center the title horizontally\n",
            ")\n",
            "\n",
            "# Save the figure to PDF with tight layout to avoid cutting off elements\n",
            "plt.savefig(\"PCC_Cargo_to_Mitochondria.pdf\", format=\"pdf\", bbox_inches=\"tight\")\n"
         ]
      },
      {
         "cell_type": "markdown",
         "metadata": {},
         "source": [
            "<div class=\"alert alert-success\">\n",
            "\n",
            "#### Exercise       \n",
            "\n",
            "Display the result of the statistical analysis which corresponds to the tethering of the cargo to the Golgi. <br>\n",
            "Make sure the title of the figure and the name under which the figure will be saved are updated.\n",
            "   \n",
            "</div>"
         ]
      },
      {
         "cell_type": "code",
         "execution_count": null,
         "metadata": {},
         "outputs": [],
         "source": []
      }
   ],
   "metadata": {
      "kernelspec": {
         "display_name": "cellpose_pytrain3",
         "language": "python",
         "name": "python3"
      },
      "language_info": {
         "codemirror_mode": {
            "name": "ipython",
            "version": 3
         },
         "file_extension": ".py",
         "mimetype": "text/x-python",
         "name": "python",
         "nbconvert_exporter": "python",
         "pygments_lexer": "ipython3",
         "version": "3.10.18"
      }
   },
   "nbformat": 4,
   "nbformat_minor": 4
}
