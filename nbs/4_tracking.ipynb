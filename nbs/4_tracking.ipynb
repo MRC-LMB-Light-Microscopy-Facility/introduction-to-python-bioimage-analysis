{
 "cells": [
  {
   "cell_type": "markdown",
   "id": "115405e9",
   "metadata": {},
   "source": [
    "<table>\n",
    "  <tr>\n",
    "    <td><p style=\"font-size:45px; color: #55BBD2\">Analysis of light microscopy images in Python</p></td>\n",
    "    <td><img src=\"../ressources/lmb_logo.svg\" alt=\"LMB Logo\" width=\"500\" height=\"600\" align=\"right\"></td>\n",
    "  </tr>\n",
    "</table>\n",
    "<table>\n",
    "  <tr>\n",
    "    <td><p style=\"font-size:15px; color: #55BBD2\">Version: September 2025</p></td>\n",
    "  </tr>\n",
    "</table>"
   ]
  },
  {
   "cell_type": "markdown",
   "id": "e9c7a6f8",
   "metadata": {},
   "source": [
    "# Part 3: Particle tracking\n",
    "\n",
    "In this part 3 of the course, we hope the course attendees will be able to:\n",
    "- do spot detection,\n",
    "- track particle using the laptrack package,\n",
    "- display tracks on napari,\n",
    "- save tracks in an excelsheet.\n",
    "\n",
    "### Image analysis problem:\n",
    "\n",
    "There are different methods we can use to track particles. Here we will use a spot detection, called blob detection. This technique aims at detecting regions in a digital image that differ in properties, such as brightness or color, compared to surrounding regions. The Difference of Gaussian (DoG) method is one technique to detect blobs. For each blob found (a spot in our case), the method returns its coordinates position and the standard deviation of the Gaussian kernel that detected the spot. \n",
    "\n",
    "The workflow of our image analysis is illustrated as follows : <br>\n",
    "\n",
    "<img src=\"../ressources/workflow/workflow3.png\" alt=\"drawing\" width=\"800\"/>\n",
    "\n",
    "### List of packages and modules introduced in this section:\n",
    "* <i>pathlib</i> : a module representing filesystem paths."
   ]
  },
  {
   "cell_type": "code",
   "execution_count": 1,
   "id": "c034b110",
   "metadata": {},
   "outputs": [
    {
     "name": "stderr",
     "output_type": "stream",
     "text": [
      "Attempted file (Y:/Courses/Given/Python course/data/181228_CDX2_9s_c48_n073.tif) load with reader: <class 'bioio_ome_tiff.reader.Reader'> failed with error: bioio-ome-tiff does not support the image: 'Y:/Courses/Given/Python course/data/181228_CDX2_9s_c48_n073.tif'. Failed to parse XML for the provided file. Error: not well-formed (invalid token): line 1, column 6\n"
     ]
    },
    {
     "name": "stdout",
     "output_type": "stream",
     "text": [
      "(105, 1, 1, 114, 168)\n"
     ]
    }
   ],
   "source": [
    "from bioio import BioImage\n",
    "from pathlib import Path\n",
    "\n",
    "data_folder = r\"Y:\\Courses\\Given\\Python course\\data\"\n",
    "\n",
    "particles = BioImage(Path(data_folder, '181228_CDX2_9s_c48_n073.tif'))\n",
    "particles_data = particles.data\n",
    "sz = particles_data.shape\n",
    "print(sz)"
   ]
  },
  {
   "cell_type": "markdown",
   "id": "03d33083",
   "metadata": {},
   "source": [
    "## Interactive display\n",
    "Now we are going to display the particles images, consisting of 105 frames, using the 'interact' module."
   ]
  },
  {
   "cell_type": "code",
   "execution_count": 2,
   "id": "0e387be1",
   "metadata": {},
   "outputs": [
    {
     "data": {
      "application/vnd.jupyter.widget-view+json": {
       "model_id": "5d138736e98a4f2c81ee89071b60b1a8",
       "version_major": 2,
       "version_minor": 0
      },
      "text/plain": [
       "interactive(children=(IntSlider(value=52, description='t', max=104), Output()), _dom_classes=('widget-interact…"
      ]
     },
     "metadata": {},
     "output_type": "display_data"
    },
    {
     "data": {
      "text/plain": [
       "<function __main__.displayf(t)>"
      ]
     },
     "execution_count": 2,
     "metadata": {},
     "output_type": "execute_result"
    }
   ],
   "source": [
    "from ipywidgets import interact\n",
    "import numpy as np\n",
    "import matplotlib.pyplot as plt\n",
    "\n",
    "def displayf(t):\n",
    "    myimg = np.squeeze(particles_data[t])\n",
    "\n",
    "    return plt.imshow(myimg)\n",
    "\n",
    "interact(displayf, t=(0, sz[0]-1, 1)) # min, max, step"
   ]
  },
  {
   "cell_type": "markdown",
   "id": "453e7990",
   "metadata": {},
   "source": [
    "## Detect each particle (spot) using blob_dog from the feature module\n",
    "\n",
    "The blob_dog spot detection has few parameters that we need to care for in order to filter out what we consider particles and which ones are not. There are importants parameters that we will conder here: threshold, min_sigma and max_sigma. \n",
    "\n",
    "- threshold: The absolute lower bound for scale space maxima. Local maxima smaller than threshold are ignored. Reduce this to detect blobs with lower intensities. <br>\n",
    "- min_sigma: The minimum standard deviation for Gaussian kernel.\n",
    "- max_sigma: The maximum standard deviation for Gaussian kernel.\n",
    "\n",
    "Further reading: https://scikit-image.org/docs/stable/api/skimage.feature.html#skimage.feature.blob_dog\n",
    "\n",
    "We will save the positions of the detected particles in a panda dataframe."
   ]
  },
  {
   "cell_type": "code",
   "execution_count": 3,
   "id": "88328a51",
   "metadata": {},
   "outputs": [
    {
     "data": {
      "text/html": [
       "<div>\n",
       "<style scoped>\n",
       "    .dataframe tbody tr th:only-of-type {\n",
       "        vertical-align: middle;\n",
       "    }\n",
       "\n",
       "    .dataframe tbody tr th {\n",
       "        vertical-align: top;\n",
       "    }\n",
       "\n",
       "    .dataframe thead th {\n",
       "        text-align: right;\n",
       "    }\n",
       "</style>\n",
       "<table border=\"1\" class=\"dataframe\">\n",
       "  <thead>\n",
       "    <tr style=\"text-align: right;\">\n",
       "      <th></th>\n",
       "      <th>x</th>\n",
       "      <th>y</th>\n",
       "      <th>w</th>\n",
       "      <th>frame</th>\n",
       "    </tr>\n",
       "  </thead>\n",
       "  <tbody>\n",
       "    <tr>\n",
       "      <th>0</th>\n",
       "      <td>64.0</td>\n",
       "      <td>30.0</td>\n",
       "      <td>1.00</td>\n",
       "      <td>0</td>\n",
       "    </tr>\n",
       "    <tr>\n",
       "      <th>1</th>\n",
       "      <td>104.0</td>\n",
       "      <td>15.0</td>\n",
       "      <td>1.00</td>\n",
       "      <td>0</td>\n",
       "    </tr>\n",
       "    <tr>\n",
       "      <th>2</th>\n",
       "      <td>114.0</td>\n",
       "      <td>37.0</td>\n",
       "      <td>1.00</td>\n",
       "      <td>0</td>\n",
       "    </tr>\n",
       "    <tr>\n",
       "      <th>3</th>\n",
       "      <td>76.0</td>\n",
       "      <td>34.0</td>\n",
       "      <td>1.00</td>\n",
       "      <td>0</td>\n",
       "    </tr>\n",
       "    <tr>\n",
       "      <th>4</th>\n",
       "      <td>108.0</td>\n",
       "      <td>95.0</td>\n",
       "      <td>1.00</td>\n",
       "      <td>0</td>\n",
       "    </tr>\n",
       "    <tr>\n",
       "      <th>...</th>\n",
       "      <td>...</td>\n",
       "      <td>...</td>\n",
       "      <td>...</td>\n",
       "      <td>...</td>\n",
       "    </tr>\n",
       "    <tr>\n",
       "      <th>10</th>\n",
       "      <td>36.0</td>\n",
       "      <td>65.0</td>\n",
       "      <td>1.60</td>\n",
       "      <td>104</td>\n",
       "    </tr>\n",
       "    <tr>\n",
       "      <th>11</th>\n",
       "      <td>103.0</td>\n",
       "      <td>22.0</td>\n",
       "      <td>1.00</td>\n",
       "      <td>104</td>\n",
       "    </tr>\n",
       "    <tr>\n",
       "      <th>12</th>\n",
       "      <td>36.0</td>\n",
       "      <td>20.0</td>\n",
       "      <td>1.60</td>\n",
       "      <td>104</td>\n",
       "    </tr>\n",
       "    <tr>\n",
       "      <th>13</th>\n",
       "      <td>74.0</td>\n",
       "      <td>11.0</td>\n",
       "      <td>2.56</td>\n",
       "      <td>104</td>\n",
       "    </tr>\n",
       "    <tr>\n",
       "      <th>14</th>\n",
       "      <td>76.0</td>\n",
       "      <td>97.0</td>\n",
       "      <td>1.00</td>\n",
       "      <td>104</td>\n",
       "    </tr>\n",
       "  </tbody>\n",
       "</table>\n",
       "<p>2061 rows × 4 columns</p>\n",
       "</div>"
      ],
      "text/plain": [
       "        x     y     w  frame\n",
       "0    64.0  30.0  1.00      0\n",
       "1   104.0  15.0  1.00      0\n",
       "2   114.0  37.0  1.00      0\n",
       "3    76.0  34.0  1.00      0\n",
       "4   108.0  95.0  1.00      0\n",
       "..    ...   ...   ...    ...\n",
       "10   36.0  65.0  1.60    104\n",
       "11  103.0  22.0  1.00    104\n",
       "12   36.0  20.0  1.60    104\n",
       "13   74.0  11.0  2.56    104\n",
       "14   76.0  97.0  1.00    104\n",
       "\n",
       "[2061 rows x 4 columns]"
      ]
     },
     "execution_count": 3,
     "metadata": {},
     "output_type": "execute_result"
    }
   ],
   "source": [
    "from skimage import feature \n",
    "import pandas as pd\n",
    "\n",
    "particles_positions = []\n",
    "\n",
    "for t in range(sz[0]):    \n",
    "    coordinates = feature.blob_dog(particles_data[t].squeeze(), min_sigma=1, max_sigma=5, threshold=0.005)    \n",
    "    particles_positions.append(pd.DataFrame({'x': coordinates[:,1], 'y': coordinates[:,0], 'w': coordinates[:,2], 'frame':t}))\n",
    "\n",
    "particles_positions = pd.concat(particles_positions)\n",
    "    \n",
    "particles_positions"
   ]
  },
  {
   "cell_type": "markdown",
   "id": "b688748f",
   "metadata": {},
   "source": [
    "Overlay the particles (yellow crosses) positions on top of the images of the particles"
   ]
  },
  {
   "cell_type": "code",
   "execution_count": 4,
   "id": "c8f5b5cc",
   "metadata": {},
   "outputs": [
    {
     "data": {
      "application/vnd.jupyter.widget-view+json": {
       "model_id": "a3aee3bd19994f14a6ca849e33fb4f7e",
       "version_major": 2,
       "version_minor": 0
      },
      "text/plain": [
       "interactive(children=(IntSlider(value=52, description='t', max=104), Output()), _dom_classes=('widget-interact…"
      ]
     },
     "metadata": {},
     "output_type": "display_data"
    },
    {
     "data": {
      "text/plain": [
       "<function __main__.displayPos(t)>"
      ]
     },
     "execution_count": 4,
     "metadata": {},
     "output_type": "execute_result"
    }
   ],
   "source": [
    "from ipywidgets import interact\n",
    "\n",
    "def displayPos(t):\n",
    "    myimg = np.squeeze(particles_data[t])\n",
    "    coordinates = particles_positions.loc[particles_positions['frame']==t]\n",
    "\n",
    "    plt.imshow(myimg)\n",
    "    return plt.plot(coordinates['x'], coordinates['y'], '+', color='yellow', linewidth=0.01)   \n",
    "\n",
    "interact(displayPos, t=(0, sz[0]-1, 1)) # min, max, step"
   ]
  },
  {
   "cell_type": "markdown",
   "id": "b45cb312",
   "metadata": {},
   "source": [
    "<div class=\"alert alert-success\">\n",
    "\n",
    "#### Exercise       \n",
    "\n",
    "The results we have here were optimized using threshold = 0.005, min_sigma = 1, and max_sigma = 5. You may find a better setting than these. <br> \n",
    "So go back to the spot detection cell and play with the values of those three parameters and observe how the results are changing accordingly.\n",
    "\n",
    "   \n",
    "</div>"
   ]
  },
  {
   "cell_type": "markdown",
   "id": "7a835aeb",
   "metadata": {},
   "source": [
    "## Particles trajectories\n",
    "We are now going to trace the trajectories of the particles by linking the coordinates positions. <br> \n",
    "For this, we will use a Python package named 'trackpy'."
   ]
  },
  {
   "cell_type": "code",
   "execution_count": 5,
   "id": "f9a8dfe5",
   "metadata": {},
   "outputs": [
    {
     "name": "stdout",
     "output_type": "stream",
     "text": [
      "Frame 104: 15 trajectories present.\n",
      "There are 239 particles\n"
     ]
    },
    {
     "data": {
      "image/png": "[encoded data removed]",
      "text/plain": [
       "<Figure size 640x480 with 1 Axes>"
      ]
     },
     "metadata": {},
     "output_type": "display_data"
    },
    {
     "data": {
      "text/plain": [
       "<Axes: xlabel='x [px]', ylabel='y [px]'>"
      ]
     },
     "execution_count": 5,
     "metadata": {},
     "output_type": "execute_result"
    }
   ],
   "source": [
    "import trackpy as tp\n",
    "\n",
    "farthest_distance = 8 # farthest distance a particle can travel, larger value slows computation time\n",
    "track_linked = tp.link(particles_positions, farthest_distance, memory=5) # value of memory corresponds to the number of frames that is being memorized, track_linked is a pandas dataframe\n",
    "nb_particles = track_linked['particle'].unique().max() + 1\n",
    "print('There are', nb_particles, 'particles')\n",
    "\n",
    "plt.figure()\n",
    "tp.plot_traj(track_linked)"
   ]
  },
  {
   "cell_type": "markdown",
   "id": "7a510695",
   "metadata": {},
   "source": [
    "<div class=\"alert alert-success\">\n",
    "\n",
    "#### Exercise       \n",
    "\n",
    "Try to understand the code line which generates the number of particles. <br>\n",
    "What do you think will happen to this number of particles if you change the allowed farthest distance a particle can travel? <br>\n",
    "\n",
    "(Here we have farthest_distance = 8 initially)\n",
    "   \n",
    "</div>"
   ]
  },
  {
   "cell_type": "markdown",
   "id": "f2d723fc",
   "metadata": {},
   "source": [
    "## Additional constraints\n",
    "\n",
    "But maybe we eventually want to remove particles that are only appearing in few frames?\n",
    "\n",
    "Let say we won't consider the trajectories of particles that are appearing in less than 10 frames."
   ]
  },
  {
   "cell_type": "code",
   "execution_count": 6,
   "id": "7a207bf4",
   "metadata": {},
   "outputs": [
    {
     "data": {
      "text/html": [
       "<div>\n",
       "<style scoped>\n",
       "    .dataframe tbody tr th:only-of-type {\n",
       "        vertical-align: middle;\n",
       "    }\n",
       "\n",
       "    .dataframe tbody tr th {\n",
       "        vertical-align: top;\n",
       "    }\n",
       "\n",
       "    .dataframe thead th {\n",
       "        text-align: right;\n",
       "    }\n",
       "</style>\n",
       "<table border=\"1\" class=\"dataframe\">\n",
       "  <thead>\n",
       "    <tr style=\"text-align: right;\">\n",
       "      <th></th>\n",
       "      <th>x</th>\n",
       "      <th>y</th>\n",
       "      <th>w</th>\n",
       "      <th>frame</th>\n",
       "      <th>particle</th>\n",
       "    </tr>\n",
       "  </thead>\n",
       "  <tbody>\n",
       "    <tr>\n",
       "      <th>4</th>\n",
       "      <td>108.0</td>\n",
       "      <td>95.0</td>\n",
       "      <td>1.0</td>\n",
       "      <td>0</td>\n",
       "      <td>1</td>\n",
       "    </tr>\n",
       "    <tr>\n",
       "      <th>9</th>\n",
       "      <td>107.0</td>\n",
       "      <td>94.0</td>\n",
       "      <td>1.0</td>\n",
       "      <td>1</td>\n",
       "      <td>1</td>\n",
       "    </tr>\n",
       "    <tr>\n",
       "      <th>9</th>\n",
       "      <td>108.0</td>\n",
       "      <td>95.0</td>\n",
       "      <td>1.0</td>\n",
       "      <td>2</td>\n",
       "      <td>1</td>\n",
       "    </tr>\n",
       "    <tr>\n",
       "      <th>7</th>\n",
       "      <td>108.0</td>\n",
       "      <td>95.0</td>\n",
       "      <td>1.0</td>\n",
       "      <td>3</td>\n",
       "      <td>1</td>\n",
       "    </tr>\n",
       "    <tr>\n",
       "      <th>11</th>\n",
       "      <td>108.0</td>\n",
       "      <td>95.0</td>\n",
       "      <td>1.0</td>\n",
       "      <td>4</td>\n",
       "      <td>1</td>\n",
       "    </tr>\n",
       "    <tr>\n",
       "      <th>...</th>\n",
       "      <td>...</td>\n",
       "      <td>...</td>\n",
       "      <td>...</td>\n",
       "      <td>...</td>\n",
       "      <td>...</td>\n",
       "    </tr>\n",
       "    <tr>\n",
       "      <th>5</th>\n",
       "      <td>87.0</td>\n",
       "      <td>93.0</td>\n",
       "      <td>1.0</td>\n",
       "      <td>100</td>\n",
       "      <td>209</td>\n",
       "    </tr>\n",
       "    <tr>\n",
       "      <th>3</th>\n",
       "      <td>87.0</td>\n",
       "      <td>93.0</td>\n",
       "      <td>1.0</td>\n",
       "      <td>101</td>\n",
       "      <td>209</td>\n",
       "    </tr>\n",
       "    <tr>\n",
       "      <th>1</th>\n",
       "      <td>88.0</td>\n",
       "      <td>93.0</td>\n",
       "      <td>1.0</td>\n",
       "      <td>102</td>\n",
       "      <td>209</td>\n",
       "    </tr>\n",
       "    <tr>\n",
       "      <th>2</th>\n",
       "      <td>88.0</td>\n",
       "      <td>93.0</td>\n",
       "      <td>1.0</td>\n",
       "      <td>103</td>\n",
       "      <td>209</td>\n",
       "    </tr>\n",
       "    <tr>\n",
       "      <th>3</th>\n",
       "      <td>90.0</td>\n",
       "      <td>86.0</td>\n",
       "      <td>1.0</td>\n",
       "      <td>104</td>\n",
       "      <td>209</td>\n",
       "    </tr>\n",
       "  </tbody>\n",
       "</table>\n",
       "<p>1646 rows × 5 columns</p>\n",
       "</div>"
      ],
      "text/plain": [
       "        x     y    w  frame  particle\n",
       "4   108.0  95.0  1.0      0         1\n",
       "9   107.0  94.0  1.0      1         1\n",
       "9   108.0  95.0  1.0      2         1\n",
       "7   108.0  95.0  1.0      3         1\n",
       "11  108.0  95.0  1.0      4         1\n",
       "..    ...   ...  ...    ...       ...\n",
       "5    87.0  93.0  1.0    100       209\n",
       "3    87.0  93.0  1.0    101       209\n",
       "1    88.0  93.0  1.0    102       209\n",
       "2    88.0  93.0  1.0    103       209\n",
       "3    90.0  86.0  1.0    104       209\n",
       "\n",
       "[1646 rows x 5 columns]"
      ]
     },
     "execution_count": 6,
     "metadata": {},
     "output_type": "execute_result"
    }
   ],
   "source": [
    "import pandas as pd\n",
    "\n",
    "l = track_linked['particle'].unique() \n",
    "allowed_track_length = 10\n",
    "particles_id = [k for k in l if len(track_linked.loc[track_linked['particle']==k])>=allowed_track_length]\n",
    "\n",
    "selected_tracks = pd.DataFrame([])\n",
    "\n",
    "for t in range(len(particles_id)):\n",
    "    coordinates = track_linked.loc[track_linked['particle']==particles_id[t]]\n",
    "    selected_tracks = pd.concat([selected_tracks, coordinates])\n",
    "\n",
    "selected_tracks"
   ]
  },
  {
   "cell_type": "markdown",
   "id": "aa780d17",
   "metadata": {},
   "source": [
    "#### Display the selected tracks over the images of the particles to see how well we did "
   ]
  },
  {
   "cell_type": "code",
   "execution_count": 7,
   "id": "a6f12c4a",
   "metadata": {},
   "outputs": [
    {
     "data": {
      "application/vnd.jupyter.widget-view+json": {
       "model_id": "1a796439660c4c68be1f841e8f4de04c",
       "version_major": 2,
       "version_minor": 0
      },
      "text/plain": [
       "interactive(children=(IntSlider(value=52, description='t', max=104), Output()), _dom_classes=('widget-interact…"
      ]
     },
     "metadata": {},
     "output_type": "display_data"
    },
    {
     "data": {
      "text/plain": [
       "<function __main__.displayTrack(t)>"
      ]
     },
     "execution_count": 7,
     "metadata": {},
     "output_type": "execute_result"
    }
   ],
   "source": [
    "def displayTrack(t):\n",
    "    myimg = np.squeeze(particles_data[t])\n",
    "\n",
    "    plt.imshow(myimg)\n",
    "    return tp.plot_traj(selected_tracks)\n",
    "\n",
    "interact(displayTrack, t=(0, sz[0]-1, 1)) # min, max, step"
   ]
  },
  {
   "cell_type": "markdown",
   "id": "8c04aaa2",
   "metadata": {},
   "source": [
    "<div class=\"alert alert-success\">\n",
    "\n",
    "#### Exercise       \n",
    "\n",
    "Change the allowed_track_length and observe the number of trajectories displayed in the overlay display.\n",
    "   \n",
    "</div>"
   ]
  },
  {
   "cell_type": "markdown",
   "id": "530ea389",
   "metadata": {},
   "source": [
    "### Display tracks in napari"
   ]
  },
  {
   "cell_type": "code",
   "execution_count": null,
   "id": "588faabc",
   "metadata": {},
   "outputs": [],
   "source": [
    "points = tracks.loc[:, [\"frame\", \"y\", \"x\"]].to_numpy()\n",
    "viewer.add_points(points, size=0.5, symbol=\"disc\", face_color=\"white\")"
   ]
  },
  {
   "cell_type": "code",
   "execution_count": null,
   "id": "db7dc067",
   "metadata": {},
   "outputs": [],
   "source": [
    "tracks_to_napari = tracks.loc[:, [\"particle\", \"frame\", \"y\", \"x\"]].to_numpy()\n",
    "viewer.add_tracks(tracks_to_napari, name=\"tracks\", tail_length=5)"
   ]
  },
  {
   "cell_type": "markdown",
   "id": "5793b969",
   "metadata": {},
   "source": [
    "## Exporting tabular results\n",
    "\n",
    "To save results in a csv file use the export function from pandas. <br>\n",
    "The excelsheet will be save in your current directory. To check where is that directory, run the command pwd in a new cell and you will see the csv file be saved in that directory.\n"
   ]
  },
  {
   "cell_type": "code",
   "execution_count": 8,
   "id": "42be1e0e",
   "metadata": {},
   "outputs": [
    {
     "data": {
      "text/plain": [
       "'c:\\\\Users\\\\Dina Ratsimandresy\\\\Documents\\\\GitHub\\\\introduction-to-python-bioimage-analysis\\\\nbs'"
      ]
     },
     "execution_count": 8,
     "metadata": {},
     "output_type": "execute_result"
    }
   ],
   "source": [
    "pwd"
   ]
  },
  {
   "cell_type": "code",
   "execution_count": null,
   "id": "3ecbfac4",
   "metadata": {},
   "outputs": [],
   "source": [
    "selected_tracks.to_csv('tracking_results.csv')"
   ]
  },
  {
   "cell_type": "markdown",
   "id": "83796f9b",
   "metadata": {},
   "source": [
    "# Some more helpful tips\n",
    "\n",
    "- scientific images are data, they can be compromised by inappropriate manipulations\n",
    "- take good images:\n",
    "    - don't oversaturate your data\n",
    "    - use the full dynamic range when taking your images\n",
    "- do not segment on the data you are measuring, use a housekeeping channel\n",
    "- images that are compared to each other need to be processed and acquired in the same manner"
   ]
  }
 ],
 "metadata": {
  "kernelspec": {
   "display_name": "imaging-python-course",
   "language": "python",
   "name": "python3"
  },
  "language_info": {
   "codemirror_mode": {
    "name": "ipython",
    "version": 3
   },
   "file_extension": ".py",
   "mimetype": "text/x-python",
   "name": "python",
   "nbconvert_exporter": "python",
   "pygments_lexer": "ipython3",
   "version": "3.12.11"
  }
 },
 "nbformat": 4,
 "nbformat_minor": 5
}
