{
 "cells": [
  {
   "cell_type": "markdown",
   "id": "ccf35a93",
   "metadata": {},
   "source": [
    "## Dowload example image\n",
    "\n",
    "Download example images in the data folder."
   ]
  },
  {
   "cell_type": "code",
   "execution_count": null,
   "id": "d5350cfa",
   "metadata": {},
   "outputs": [
    {
     "name": "stdout",
     "output_type": "stream",
     "text": [
      "List of files in the ../data folder\n",
      " 181228_CDX2_9s_c48_n073.tif\n",
      " airyscan-4colors.tif\n",
      " source.txt\n",
      " human_in_the_loop\n",
      " data\n",
      " Zeiss1344.lsm\n"
     ]
    }
   ],
   "source": [
    "from urllib.request import urlopen\n",
    "from io import BytesIO\n",
    "from zipfile import ZipFile\n",
    "from pathlib import Path\n",
    "\n",
    "def download_and_unzip(url, extract_to='.'):\n",
    "    \"\"\"Download and unzip from an url\n",
    "    \n",
    "    Parameters\n",
    "    ----------\n",
    "    url: str\n",
    "        Link to the dataset\n",
    "    extract_to: str\n",
    "        Path where to extract the data\n",
    "    \"\"\"\n",
    "    http_response = urlopen(url)\n",
    "    zipfile = ZipFile(BytesIO(http_response.read()))\n",
    "    zipfile.extractall(path=extract_to)\n",
    "\n",
    "\n",
    "url = 'https://cloud3.mrc-lmb.cam.ac.uk/public.php/dav/files/Wpewom2LwE8YL7d/?accept=zip'\n",
    "\n",
    "data_folder = Path('../data')\n",
    "\n",
    "download_and_unzip(url, data_folder)\n",
    "\n",
    "print(f'List of files in the {data_folder} folder')\n",
    "for x in (data_folder).glob('*'):\n",
    "    print(f' {str(x.name)}')"
   ]
  }
 ],
 "metadata": {
  "kernelspec": {
   "display_name": "Python 3",
   "language": "python",
   "name": "python3"
  },
  "language_info": {
   "codemirror_mode": {
    "name": "ipython",
    "version": 3
   },
   "file_extension": ".py",
   "mimetype": "text/x-python",
   "name": "python",
   "nbconvert_exporter": "python",
   "pygments_lexer": "ipython3",
   "version": "3.13.7"
  }
 },
 "nbformat": 4,
 "nbformat_minor": 5
}
