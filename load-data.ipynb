{
 "cells": [
  {
   "attachments": {},
   "cell_type": "markdown",
   "metadata": {},
   "source": [
    "# Open a microscopy data in any format "
   ]
  },
  {
   "attachments": {},
   "cell_type": "markdown",
   "metadata": {},
   "source": [
    "This notebook enables the user to load microscopy data in different formats listed [here](https://bio-formats.readthedocs.io/en/v6.12.0/supported-formats.html) in a similar fashion. It also enables the reading of the metadata. The installation of the package aicsimageio is required. Documentation can be found [here](https://allencellmodeling.github.io/aicsimageio/index.html).\n",
    "The following steps are required for the installation of the required package: <br>\n",
    "> \\$ conda activate \\<env\\> <br>\n",
    "    \\$ pip install aicsimageio <br>\n",
    "    \\$ pip install aicsimageio[base-imageio,nd2,bfio,all] <br>\n",
    "    \\$ pip install aicsimageio readlif>=0.6.4 <br>\n",
    "    \\$ pip install aicsimageio aicspylibczi>=3.0.5 fsspec>=2022.7.1 <br>\n",
    "    \\$ conda install -c conda-forge bioformats_jar <br> "
   ]
  },
  {
   "attachments": {},
   "cell_type": "markdown",
   "metadata": {},
   "source": [
    "Load the image with its metadata in this next cell by replacing the image path directory in that cell. Make sure to have the path correct and use / instead of \\"
   ]
  },
  {
   "cell_type": "code",
   "execution_count": 1,
   "metadata": {},
   "outputs": [],
   "source": [
    "# EXAMPLE\n",
    "from scyjava import config\n",
    "from aicsimageio import AICSImage\n",
    "mydata = AICSImage(\"Y:/April05/FluoCells1_BPAE_F36924/FluoCells1_F36924_001.nd2\") # THE IMAGE PATH DIRECTORY HERE"
   ]
  },
  {
   "attachments": {},
   "cell_type": "markdown",
   "metadata": {},
   "source": [
    "The following packages need to be imported to display the image and extract the metadata from the data."
   ]
  },
  {
   "cell_type": "code",
   "execution_count": 2,
   "metadata": {},
   "outputs": [],
   "source": [
    "# IMPORT PACKAGES\n",
    "from __future__ import print_function\n",
    "from ipywidgets import interact, interactive, fixed, interact_manual\n",
    "import ipywidgets as widgets\n",
    "import matplotlib.pyplot as plt\n",
    "import pandas as pd\n",
    "import numpy as np"
   ]
  },
  {
   "attachments": {},
   "cell_type": "markdown",
   "metadata": {},
   "source": [
    "Next, we read the image and the metadata. Metadata includes the number of channels in the images, the name of each channel and emission wavelength associated with each channel, the voxel size and physical size of the image. Many other acquisition parameters are stored in the metadata and we can access them from here."
   ]
  },
  {
   "cell_type": "code",
   "execution_count": 3,
   "metadata": {},
   "outputs": [
    {
     "name": "stdout",
     "output_type": "stream",
     "text": [
      "Data recorded from: Plan Apo VC 100x Oil DIC N2\n",
      "Voxel size: [0.065, 0.065, 0.1] in micrometer\n",
      "Size XYZ of the image: [2048, 2044, 101]\n",
      "Number of channels: 3\n",
      "Time frames: 1\n"
     ]
    },
    {
     "data": {
      "text/html": [
       "<div>\n",
       "<style scoped>\n",
       "    .dataframe tbody tr th:only-of-type {\n",
       "        vertical-align: middle;\n",
       "    }\n",
       "\n",
       "    .dataframe tbody tr th {\n",
       "        vertical-align: top;\n",
       "    }\n",
       "\n",
       "    .dataframe thead th {\n",
       "        text-align: right;\n",
       "    }\n",
       "</style>\n",
       "<table border=\"1\" class=\"dataframe\">\n",
       "  <thead>\n",
       "    <tr style=\"text-align: right;\">\n",
       "      <th></th>\n",
       "      <th>Red Camera</th>\n",
       "      <th>Green Camera</th>\n",
       "      <th>Blue Camera</th>\n",
       "    </tr>\n",
       "  </thead>\n",
       "  <tbody>\n",
       "    <tr>\n",
       "      <th>Emission wavelength [in nm]</th>\n",
       "      <td>620.0</td>\n",
       "      <td>525.0</td>\n",
       "      <td>460.0</td>\n",
       "    </tr>\n",
       "  </tbody>\n",
       "</table>\n",
       "</div>"
      ],
      "text/plain": [
       "                             Red Camera  Green Camera  Blue Camera\n",
       "Emission wavelength [in nm]       620.0         525.0        460.0"
      ]
     },
     "execution_count": 3,
     "metadata": {},
     "output_type": "execute_result"
    }
   ],
   "source": [
    "# READ IMAGE AND THE METADATA\n",
    "metadata = mydata.metadata \n",
    "myimg = mydata.data\n",
    "imgsize = myimg.shape\n",
    "\n",
    "metadata = mydata.metadata\n",
    "channumber=len(metadata['metadata'].channels) # or simply imgsize[1]\n",
    "channelname=[metadata['metadata'].channels[c].channel.name for c in np.arange(channumber)] # \n",
    "wavelengthlist=[metadata['metadata'].channels[c].channel.emissionLambdaNm for c in np.arange(channumber)] # emission wavelength in each channel\n",
    "voxelsize = metadata['metadata'].channels[0].volume.axesCalibration # voxel size in um\n",
    "voxelcount = metadata['metadata'].channels[0].volume.voxelCount # 3D size\n",
    "NA = metadata['metadata'].channels[0].microscope.objectiveNumericalAperture\n",
    "ri_immersion = metadata['metadata'].channels[0].microscope.immersionRefractiveIndex # refractive index of the immersion medium \n",
    "microscope_name = metadata['metadata'].channels[0].microscope.objectiveName\n",
    "Acquisition = metadata['text_info']['capturing']  # contains info about the exposure time of each channel \n",
    "# print(Acquisition)\n",
    "print('Data recorded from:', microscope_name)\n",
    "print('Voxel size:', voxelsize,'in micrometer')\n",
    "print('Size XYZ of the image:', voxelcount)\n",
    "print('Number of channels:', channumber)\n",
    "print('Time frames:', imgsize[0])\n",
    "\n",
    "df = pd.DataFrame(columns=channelname,dtype=object)\n",
    "data = {channelname[c]:wavelengthlist[c] for c in np.arange(channumber)}\n",
    "df = pd.DataFrame(data=data,index=['Emission wavelength [in nm]'])\n",
    "df"
   ]
  },
  {
   "attachments": {},
   "cell_type": "markdown",
   "metadata": {},
   "source": [
    "The image is usually in 5D where the first three dimensions are spatials, the channel and timeframe are in the fourth and fifth dimension respectively. In the next cell, we generate a list of colormaps for displaying each channel. Users are advised to choose their desired colormaps based on their data and number of channels in the data if they can but otherwise we assume the first three existing channels are associated with RGB (red, green, blue) colors."
   ]
  },
  {
   "cell_type": "code",
   "execution_count": 4,
   "metadata": {},
   "outputs": [],
   "source": [
    "# COLORMAP FOR DISPLAYING DIFFERENT CHANNELS \n",
    "if channumber<=3:\n",
    "    cmpsuggestion=['hot','viridis','gnuplot2'] # for red, green and blue channel\n",
    "else:\n",
    "    cmplist=plt.colormaps() # list of the colormaps available on python\n",
    "    cmpsuggestion=['hot','viridis','gnuplot2']\n",
    "    for c in np.arange(channumber-3):\n",
    "        cmpsuggestion.append(cmplist[c]) "
   ]
  },
  {
   "attachments": {},
   "cell_type": "markdown",
   "metadata": {},
   "source": [
    "The image is displayed using the code in the next cell. The display is interactive where the user can select the channel to display and slide over the axial (z) position and time frame in the data. The combination of all the channels is displayed below the display of the selected channel."
   ]
  },
  {
   "cell_type": "code",
   "execution_count": 10,
   "metadata": {},
   "outputs": [
    {
     "name": "stdout",
     "output_type": "stream",
     "text": [
      "Slide the timeframe and z-position and select the desired channel to display: \n"
     ]
    },
    {
     "data": {
      "application/vnd.jupyter.widget-view+json": {
       "model_id": "8ddea7e1b30746af8a504eda2a3e355d",
       "version_major": 2,
       "version_minor": 0
      },
      "text/plain": [
       "interactive(children=(IntSlider(value=0, description='time', max=0), IntSlider(value=50, description='zpos'), …"
      ]
     },
     "metadata": {},
     "output_type": "display_data"
    }
   ],
   "source": [
    "# DISPLAY THE IMAGES\n",
    "\n",
    "def series(time, zpos, channel):\n",
    "    channels = {channelname[c]:c for c in np.arange(channumber)}\n",
    "    listmap={channelname[c]:cmpsuggestion[c] for c in np.arange(channumber)}\n",
    "    \n",
    "    fig, ax = plt.subplots()\n",
    "    cpos=channels[channel]\n",
    "    datadisp = ax.imshow(myimg[time,channels[channel],zpos,:,:],cmap=listmap[channel])\n",
    "    fig.colorbar(datadisp)\n",
    "\n",
    "    plt.show()\n",
    "\n",
    "    # Display RGB\n",
    "    print(channumber,'channels combined at the given timeframe t =',time,'and z-position =',zpos)\n",
    "\n",
    "    shp = (myimg.shape[3],myimg.shape[4],channumber) # tuple\n",
    "    rgb = np.zeros(shp,dtype=myimg.dtype)\n",
    "\n",
    "    for k in np.arange(channumber):\n",
    "        rgb[:,:,k] = myimg[time,k,zpos,:,:]\n",
    "    # set the range of the rgb data to be between 0 and 1 to avoid clipping\n",
    "    maxValue = np.amax(rgb)\n",
    "    minValue = np.amin(rgb)\n",
    "    lb=0; # lower bound equal to 0\n",
    "    if lb==0:\n",
    "        s=1\n",
    "    else:\n",
    "        s=-np.sign(lb) # this should not be an option since we are dealing with intensity so the lower bound in the original data should always be positive but for future use, keep it as it is!\n",
    "    ub=1; # upper bound equal to 1\n",
    "    rgbnew=(rgb-minValue)/(maxValue - minValue)*(s*np.abs(lb)+np.abs(ub))-s*np.abs(lb)\n",
    "\n",
    "\n",
    "    fig, ax2 = plt.subplots()\n",
    "    datadisp2 = ax2.imshow(rgbnew)\n",
    "    fig.colorbar(datadisp2)\n",
    "    plt.show()\n",
    "\n",
    "\n",
    "    return()\n",
    "print('Slide the timeframe and z-position and select the desired channel to display: ')\n",
    "interact(series, time=(0,imgsize[0]-1,1),zpos=(0,imgsize[2]-1,1), channel=channelname);"
   ]
  }
 ],
 "metadata": {
  "kernelspec": {
   "display_name": "mrcimaging",
   "language": "python",
   "name": "python3"
  },
  "language_info": {
   "codemirror_mode": {
    "name": "ipython",
    "version": 3
   },
   "file_extension": ".py",
   "mimetype": "text/x-python",
   "name": "python",
   "nbconvert_exporter": "python",
   "pygments_lexer": "ipython3",
   "version": "3.9.16"
  },
  "orig_nbformat": 4
 },
 "nbformat": 4,
 "nbformat_minor": 2
}
