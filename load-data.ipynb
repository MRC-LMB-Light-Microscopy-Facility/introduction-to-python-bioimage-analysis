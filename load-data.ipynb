{
 "cells": [
  {
   "attachments": {},
   "cell_type": "markdown",
   "metadata": {},
   "source": [
    "# Open a microscopy data in any format "
   ]
  },
  {
   "attachments": {},
   "cell_type": "markdown",
   "metadata": {},
   "source": [
    "The installation of the package aicsimageio is required. Documentation can be found [here](https://allencellmodeling.github.io/aicsimageio/index.html).  <br>\n",
    "Steps to follow for the installation of the required package: <br>\n",
    "> \\$ conda activate \\<env\\> <br>\n",
    "    \\$ pip install aicsimageio <br>\n",
    "    \\$ pip install aicsimageio[base-imageio,nd2,bfio,all] <br>\n",
    "    \\$ pip install aicsimageio readlif>=0.6.4 <br>\n",
    "    \\$ pip install aicsimageio aicspylibczi>=3.0.5 fsspec>=2022.7.1 <br>\n",
    "    \\$ conda install -c conda-forge bioformats_jar <br>"
   ]
  },
  {
   "cell_type": "code",
   "execution_count": 2,
   "metadata": {},
   "outputs": [],
   "source": [
    "# EXAMPLE\n",
    "from scyjava import config\n",
    "from aicsimageio import AICSImage\n",
    "img = AICSImage(\"Y:/April05/FluoCells1_BPAE_F36924/FluoCells1_F3624_001/Data32Bit/PSFCZT_Ab_ch00.tif\")"
   ]
  }
 ],
 "metadata": {
  "kernelspec": {
   "display_name": "mrcimaging",
   "language": "python",
   "name": "python3"
  },
  "language_info": {
   "codemirror_mode": {
    "name": "ipython",
    "version": 3
   },
   "file_extension": ".py",
   "mimetype": "text/x-python",
   "name": "python",
   "nbconvert_exporter": "python",
   "pygments_lexer": "ipython3",
   "version": "3.9.16"
  },
  "orig_nbformat": 4
 },
 "nbformat": 4,
 "nbformat_minor": 2
}
