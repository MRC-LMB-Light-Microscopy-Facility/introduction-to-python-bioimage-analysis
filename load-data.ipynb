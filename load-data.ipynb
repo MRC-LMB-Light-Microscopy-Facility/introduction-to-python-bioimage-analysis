{
 "cells": [
  {
   "attachments": {},
   "cell_type": "markdown",
   "metadata": {},
   "source": [
    "# Open a microscopy data in any format "
   ]
  },
  {
   "attachments": {},
   "cell_type": "markdown",
   "metadata": {},
   "source": [
    "This notebook enables the user to load microscopy data in different formats listed [here](https://bio-formats.readthedocs.io/en/v6.12.0/supported-formats.html) in a similar fashion. It also enables the reading of the metadata. The installation of the package aicsimageio is required. Documentation can be found [here](https://allencellmodeling.github.io/aicsimageio/index.html).\n",
    "The following steps are required for the installation of the required package: <br>\n",
    "> \\$ conda activate \\<env\\> <br>\n",
    "    \\$ pip install aicsimageio <br>\n",
    "    \\$ pip install aicsimageio[base-imageio,nd2,bfio,all] <br>\n",
    "    \\$ pip install aicsimageio readlif>=0.6.4 <br>\n",
    "    \\$ pip install aicsimageio aicspylibczi>=3.0.5 fsspec>=2022.7.1 <br>\n",
    "    \\$ conda install -c conda-forge bioformats_jar <br> "
   ]
  },
  {
   "attachments": {},
   "cell_type": "markdown",
   "metadata": {},
   "source": [
    "Load the image with its metadata in this next cell by replacing the image path directory in that cell. Make sure to have the path correct and use / instead of \\"
   ]
  },
  {
   "cell_type": "code",
   "execution_count": 1,
   "metadata": {},
   "outputs": [],
   "source": [
    "# EXAMPLE\n",
    "from scyjava import config\n",
    "from aicsimageio import AICSImage\n",
    "# mydata = AICSImage(\"Y:/April05/FluoCells1_BPAE_F36924/FluoCells1_F36924_001.nd2\") # THE IMAGE PATH DIRECTORY HERE\n",
    "mydata=AICSImage(\"C:/Users/Dina Ratsimandresy/Documents/MRC-Office/Dataset/PythonCourse precious images/Airy_4color_40nm_67e5micron_diversoformato-confocal.tif\")\n",
    "# mydata=AICSImage(\"Y:/April05/TS_10_2_dillution_ProlongGlass/TS_100nm_ProlongGlass/hCZT_ch00.tif\")"
   ]
  },
  {
   "attachments": {},
   "cell_type": "markdown",
   "metadata": {},
   "source": [
    "The following packages need to be imported to display the image and extract the metadata from the data."
   ]
  },
  {
   "cell_type": "code",
   "execution_count": 2,
   "metadata": {},
   "outputs": [],
   "source": [
    "# IMPORT PACKAGES\n",
    "\n",
    "from __future__ import print_function\n",
    "from ipywidgets import interact, interactive, fixed, interact_manual\n",
    "import ipywidgets as widgets\n",
    "import pandas as pd\n",
    "import numpy as np\n",
    "import matplotlib.pyplot as plt\n",
    "from matplotlib.cm import ScalarMappable\n",
    "from matplotlib.colors import Normalize\n",
    "import matplotlib.colors as mcolors\n",
    "from matplotlib.colors  import LinearSegmentedColormap, ListedColormap"
   ]
  },
  {
   "attachments": {},
   "cell_type": "markdown",
   "metadata": {},
   "source": [
    "Next, we read the image and the metadata. Metadata includes the number of channels in the images, the name of each channel and emission wavelength associated with each channel, the voxel size and physical size of the image. Many other acquisition parameters are stored in the metadata and we can access them from here."
   ]
  },
  {
   "cell_type": "code",
   "execution_count": 3,
   "metadata": {},
   "outputs": [
    {
     "name": "stdout",
     "output_type": "stream",
     "text": [
      "Size XYZ of the image: (1912, 1912, 1)\n",
      "Number of channels: 4\n"
     ]
    }
   ],
   "source": [
    "# READ IMAGE AND THE METADATA\n",
    "\n",
    "metadata = mydata.metadata \n",
    "myimg = mydata.data\n",
    "imgsize = myimg.shape\n",
    "\n",
    "if type(metadata)==dict:\n",
    "    metadata = mydata.metadata\n",
    "    channumber=len(metadata['metadata'].channels) # or simply imgsize[1]\n",
    "    channelname=[metadata['metadata'].channels[c].channel.name for c in np.arange(channumber)] # \n",
    "    wavelengthlist=[metadata['metadata'].channels[c].channel.emissionLambdaNm for c in np.arange(channumber)] # emission wavelength in each channel\n",
    "    voxelsize = metadata['metadata'].channels[0].volume.axesCalibration # voxel size in um\n",
    "    voxelcount = metadata['metadata'].channels[0].volume.voxelCount # 3D size\n",
    "    NA = metadata['metadata'].channels[0].microscope.objectiveNumericalAperture\n",
    "    ri_immersion = metadata['metadata'].channels[0].microscope.immersionRefractiveIndex # refractive index of the immersion medium \n",
    "    microscope_name = metadata['metadata'].channels[0].microscope.objectiveName\n",
    "    Acquisition = metadata['text_info']['capturing']  # contains info about the exposure time of each channel \n",
    "    # print(Acquisition)\n",
    "    print('Data recorded from:', microscope_name)\n",
    "    print('Time frames:', imgsize[0])\n",
    "    print('Voxel size:', voxelsize,'in micrometer')\n",
    "\n",
    "    df = pd.DataFrame(columns=channelname,dtype=object)\n",
    "    data = {channelname[c]:wavelengthlist[c] for c in np.arange(channumber)}\n",
    "    df = pd.DataFrame(data=data,index=['Emission wavelength [in nm]'])\n",
    "    df\n",
    "elif type(metadata)==str:\n",
    "    channumber = imgsize[1]\n",
    "    channelname = ['Channel-'+str(c) for c in np.arange(channumber)]\n",
    "    voxelcount = imgsize[-1:1:-1]\n",
    "print('Size XYZ of the image:', voxelcount)\n",
    "print('Number of channels:', channumber)"
   ]
  },
  {
   "attachments": {},
   "cell_type": "markdown",
   "metadata": {},
   "source": [
    "The image is usually in 5D where the first three dimensions are spatials, the channel and timeframe are in the fourth and fifth dimension respectively. In the next cell, we generate a list of colormaps for displaying each channel. Users are advised to choose their desired colormaps based on their data and number of channels in the data. Otherwise we assume the first four existing channels are associated with RGGB (red, green, grey, blue) colors. If the data contains more than the number of colors mentioned in the dictionary below, another modification of the notebook is required."
   ]
  },
  {
   "cell_type": "code",
   "execution_count": 4,
   "metadata": {},
   "outputs": [],
   "source": [
    "# COLORMAP FOR DISPLAYING DIFFERENT CHANNELS \n",
    "colorslist = {'red':(1,0,0),'yellow':(1,1,0), 'green':(0,1,0),'cyan':(0,1,1),'grey':(1,1,1),'pink':(1,0,1),'blue':(0,0,1)} # a dictionary of colors\n",
    "cmpsuggestion=['red','green','grey','blue'] # list of colormaps to be applied on the channels, choose the color per order of the channels of your data here!"
   ]
  },
  {
   "attachments": {},
   "cell_type": "markdown",
   "metadata": {},
   "source": [
    "The image is displayed using the code in the next cell. The display is interactive where the user can select the channel to display and slide over the axial (z) position and time frame in the data. The combination of all the channels is displayed below the display of the selected channel."
   ]
  },
  {
   "cell_type": "code",
   "execution_count": 5,
   "metadata": {},
   "outputs": [
    {
     "name": "stdout",
     "output_type": "stream",
     "text": [
      "Slide the timeframe and z-position and select the desired channel to display: \n"
     ]
    },
    {
     "data": {
      "application/vnd.jupyter.widget-view+json": {
       "model_id": "dec0680011ac44b0b48973de81941d08",
       "version_major": 2,
       "version_minor": 0
      },
      "text/plain": [
       "interactive(children=(IntSlider(value=15, description='time', max=31), IntSlider(value=0, description='zpos', …"
      ]
     },
     "metadata": {},
     "output_type": "display_data"
    }
   ],
   "source": [
    "# DISPLAY THE IMAGES INTERACTIVELY\n",
    "\n",
    "def series(time, zpos, channel):\n",
    "\n",
    "    shp = (myimg.shape[3],myimg.shape[4],channumber) # tuple\n",
    "    rgb = np.zeros(shp,dtype=myimg.dtype)\n",
    "\n",
    "    for k in np.arange(channumber):\n",
    "        rgb[:,:,k] = myimg[time,k,zpos,:,:]\n",
    "\n",
    "    lb=0; # lower bound equal to 0\n",
    "    if lb==0:\n",
    "        s=1\n",
    "    else:\n",
    "        s=-np.sign(lb) # this should not be an option since we are dealing with intensity so the lower bound in the original data should always be positive but for future use, keep it as it is!\n",
    "    ub=1; # upper bound equal to 1\n",
    "\n",
    "    maxValue = np.expand_dims(np.array(np.amax(np.amax(rgb,axis=0),axis=0)),axis=[0,1])\n",
    "    minValue = np.expand_dims(np.array(np.amin(np.amin(rgb,axis=0),axis=0)),axis=[0,1])\n",
    "    rgbupd=(rgb-minValue)/(maxValue - minValue)*(s*np.abs(lb)+np.abs(ub))-s*np.abs(lb) # this normalization is needed for display using the colormap and for making a stack of all channels\n",
    "\n",
    "    cmappable_list={}\n",
    "\n",
    "    for k in range(channumber):\n",
    "        colorsrange = [(0, 0, 0), colorslist[cmpsuggestion[k]]] # first color is black, last is red\n",
    "        cmpk = LinearSegmentedColormap.from_list(cmpsuggestion[k], colorsrange, N=256)\n",
    "        colors = cmpk(np.arange(0,cmpk.N)) \n",
    "        color_matplotlib = ListedColormap(colors)\n",
    "        chank = color_matplotlib(rgbupd[:,:,k])\n",
    "        cmappable = ScalarMappable(norm=Normalize(minValue[0][0][k],maxValue[0][0][k]), cmap=cmpk) # display of each channel with its original pixel range here\n",
    "\n",
    "        if k in cmappable_list:\n",
    "            cmappable_list[k].append(cmappable)\n",
    "        else:\n",
    "            cmappable_list[k] = cmappable # save the colormap to display the channel\n",
    "\n",
    "        chank = np.expand_dims(chank,axis=3)\n",
    "        if k==0:\n",
    "            rgb = chank\n",
    "        else:\n",
    "            rgb = np.append(rgb,chank,axis=3)\n",
    "\n",
    "    rgb_proj = np.max(rgb, axis = 3) # all the channels combined \n",
    "\n",
    "    # Dislay single channel\n",
    "    channels = {channelname[c]:c for c in np.arange(channumber)}\n",
    "\n",
    "    fig, ax = plt.subplots()\n",
    "    cpos=channels[channel]\n",
    "    ax.imshow(rgb[:,:,:,cpos])\n",
    "    fig.colorbar(cmappable_list[cpos])\n",
    "\n",
    "\n",
    "    # Display RGB\n",
    "    print(channumber,'channels combined at the given timeframe t =',time,'and z-position =',zpos)\n",
    "\n",
    "    fig, ax2 = plt.subplots()\n",
    "    ax2.imshow(rgb_proj)\n",
    "   \n",
    "    plt.show()\n",
    "\n",
    "    return()\n",
    "print('Slide the timeframe and z-position and select the desired channel to display: ')\n",
    "interact(series, time=(0,imgsize[0]-1,1),zpos=(0,imgsize[2]-1,1), channel=channelname);"
   ]
  }
 ],
 "metadata": {
  "kernelspec": {
   "display_name": "mrcimaging",
   "language": "python",
   "name": "python3"
  },
  "language_info": {
   "codemirror_mode": {
    "name": "ipython",
    "version": 3
   },
   "file_extension": ".py",
   "mimetype": "text/x-python",
   "name": "python",
   "nbconvert_exporter": "python",
   "pygments_lexer": "ipython3",
   "version": "3.9.16"
  },
  "orig_nbformat": 4
 },
 "nbformat": 4,
 "nbformat_minor": 2
}
